{
 "cells": [
  {
   "cell_type": "code",
   "execution_count": 22,
   "metadata": {},
   "outputs": [],
   "source": [
    "import numpy as np\n",
    "import matplotlib.pyplot as plt\n",
    "import pandas as pd\n",
    "import reader1 as rd\n",
    "import utilerias as utls\n",
    "# Llamamos a la función antes de ejecutar el script\n",
    "utls.eliminar_archivos_registro()"
   ]
  },
  {
   "cell_type": "code",
   "execution_count": 2,
   "metadata": {},
   "outputs": [],
   "source": [
    "url = 'https://raw.githubusercontent.com/mwitiderrick/stockprice/master/NSE-TATAGLOBAL.csv'\n",
    "dataset_train = pd.read_csv(url)\n",
    "training_set = dataset_train.iloc[:, 1:2].values"
   ]
  },
  {
   "cell_type": "code",
   "execution_count": 3,
   "metadata": {},
   "outputs": [],
   "source": [
    "DATOS = 'Datos históricos COMI 3ene16-31dic2020 semanal.csv'\n",
    "cierre = rd.leer_archivo(DATOS).astype(float)\n",
    "training_set_cierre = np.array(cierre[:int(len(cierre) * 0.7)])\n",
    "\n",
    "training_set_cierre = np.reshape(training_set_cierre, (training_set_cierre.shape[0], 1))"
   ]
  },
  {
   "cell_type": "code",
   "execution_count": 4,
   "metadata": {},
   "outputs": [
    {
     "data": {
      "text/html": [
       "<div>\n",
       "<style scoped>\n",
       "    .dataframe tbody tr th:only-of-type {\n",
       "        vertical-align: middle;\n",
       "    }\n",
       "\n",
       "    .dataframe tbody tr th {\n",
       "        vertical-align: top;\n",
       "    }\n",
       "\n",
       "    .dataframe thead th {\n",
       "        text-align: right;\n",
       "    }\n",
       "</style>\n",
       "<table border=\"1\" class=\"dataframe\">\n",
       "  <thead>\n",
       "    <tr style=\"text-align: right;\">\n",
       "      <th></th>\n",
       "      <th>Date</th>\n",
       "      <th>Open</th>\n",
       "      <th>High</th>\n",
       "      <th>Low</th>\n",
       "      <th>Last</th>\n",
       "      <th>Close</th>\n",
       "      <th>Total Trade Quantity</th>\n",
       "      <th>Turnover (Lacs)</th>\n",
       "    </tr>\n",
       "  </thead>\n",
       "  <tbody>\n",
       "    <tr>\n",
       "      <th>0</th>\n",
       "      <td>2018-09-28</td>\n",
       "      <td>234.05</td>\n",
       "      <td>235.95</td>\n",
       "      <td>230.20</td>\n",
       "      <td>233.50</td>\n",
       "      <td>233.75</td>\n",
       "      <td>3069914</td>\n",
       "      <td>7162.35</td>\n",
       "    </tr>\n",
       "    <tr>\n",
       "      <th>1</th>\n",
       "      <td>2018-09-27</td>\n",
       "      <td>234.55</td>\n",
       "      <td>236.80</td>\n",
       "      <td>231.10</td>\n",
       "      <td>233.80</td>\n",
       "      <td>233.25</td>\n",
       "      <td>5082859</td>\n",
       "      <td>11859.95</td>\n",
       "    </tr>\n",
       "    <tr>\n",
       "      <th>2</th>\n",
       "      <td>2018-09-26</td>\n",
       "      <td>240.00</td>\n",
       "      <td>240.00</td>\n",
       "      <td>232.50</td>\n",
       "      <td>235.00</td>\n",
       "      <td>234.25</td>\n",
       "      <td>2240909</td>\n",
       "      <td>5248.60</td>\n",
       "    </tr>\n",
       "    <tr>\n",
       "      <th>3</th>\n",
       "      <td>2018-09-25</td>\n",
       "      <td>233.30</td>\n",
       "      <td>236.75</td>\n",
       "      <td>232.00</td>\n",
       "      <td>236.25</td>\n",
       "      <td>236.10</td>\n",
       "      <td>2349368</td>\n",
       "      <td>5503.90</td>\n",
       "    </tr>\n",
       "    <tr>\n",
       "      <th>4</th>\n",
       "      <td>2018-09-24</td>\n",
       "      <td>233.55</td>\n",
       "      <td>239.20</td>\n",
       "      <td>230.75</td>\n",
       "      <td>234.00</td>\n",
       "      <td>233.30</td>\n",
       "      <td>3423509</td>\n",
       "      <td>7999.55</td>\n",
       "    </tr>\n",
       "  </tbody>\n",
       "</table>\n",
       "</div>"
      ],
      "text/plain": [
       "         Date    Open    High     Low    Last   Close  Total Trade Quantity  \\\n",
       "0  2018-09-28  234.05  235.95  230.20  233.50  233.75               3069914   \n",
       "1  2018-09-27  234.55  236.80  231.10  233.80  233.25               5082859   \n",
       "2  2018-09-26  240.00  240.00  232.50  235.00  234.25               2240909   \n",
       "3  2018-09-25  233.30  236.75  232.00  236.25  236.10               2349368   \n",
       "4  2018-09-24  233.55  239.20  230.75  234.00  233.30               3423509   \n",
       "\n",
       "   Turnover (Lacs)  \n",
       "0          7162.35  \n",
       "1         11859.95  \n",
       "2          5248.60  \n",
       "3          5503.90  \n",
       "4          7999.55  "
      ]
     },
     "execution_count": 4,
     "metadata": {},
     "output_type": "execute_result"
    }
   ],
   "source": [
    "dataset_train.head()\n",
    "# print(training_set.shape)\n",
    "# print(training_set_cierre.shape)"
   ]
  },
  {
   "cell_type": "code",
   "execution_count": 5,
   "metadata": {},
   "outputs": [],
   "source": [
    "from sklearn.preprocessing import MinMaxScaler\n",
    "sc = MinMaxScaler(feature_range=(0,1))\n",
    "training_set_scaled = sc.fit_transform(training_set)\n",
    "\n",
    "m_m_s = MinMaxScaler(feature_range=(0,1))\n",
    "training_set_cierre_scaled = m_m_s.fit_transform(training_set_cierre)"
   ]
  },
  {
   "cell_type": "code",
   "execution_count": 6,
   "metadata": {},
   "outputs": [],
   "source": [
    "# X_train = []\n",
    "# y_train = []\n",
    "# for i in range(60, 2035):\n",
    "#     X_train.append(training_set_scaled[i-60:i, 0])\n",
    "#     y_train.append(training_set_scaled[i, 0])\n",
    "# X_train, y_train = np.array(X_train), np.array(y_train)\n",
    "# X_train = np.reshape(X_train, (X_train.shape[0], X_train.shape[1], 1))\n"
   ]
  },
  {
   "cell_type": "code",
   "execution_count": 7,
   "metadata": {},
   "outputs": [],
   "source": [
    "time_steps = 8\n",
    "N = len(training_set_cierre_scaled)\n",
    "X_train_c = []\n",
    "y_train_c = []\n",
    "for i in range(time_steps, N):\n",
    "    X_train_c.append(training_set_cierre_scaled[i-time_steps:i, 0])\n",
    "    y_train_c.append(training_set_cierre_scaled[i, 0])\n",
    "X_train_c, y_train_c = np.array(X_train_c), np.array(y_train_c)\n",
    "X_train_c = np.reshape(X_train_c, (X_train_c.shape[0], X_train_c.shape[1], 1))"
   ]
  },
  {
   "cell_type": "code",
   "execution_count": 8,
   "metadata": {},
   "outputs": [],
   "source": [
    "# print(X_train.shape)\n",
    "# print(y_train.shape)\n",
    "# print(X_train_c.shape)\n",
    "# print(y_train_c.shape)"
   ]
  },
  {
   "cell_type": "code",
   "execution_count": 9,
   "metadata": {},
   "outputs": [],
   "source": [
    "from keras.models import Sequential\n",
    "from keras.layers import LSTM\n",
    "from keras.layers import Dropout\n",
    "from keras.layers import Dense"
   ]
  },
  {
   "cell_type": "code",
   "execution_count": 10,
   "metadata": {},
   "outputs": [],
   "source": [
    "# model = Sequential()\n",
    "# model.add(LSTM(units=50,return_sequences=True,input_shape=(X_train.shape[1], 1)))\n",
    "# model.add(Dropout(0.2))\n",
    "# model.add(LSTM(units=50,return_sequences=True))\n",
    "# model.add(Dropout(0.2))\n",
    "# model.add(LSTM(units=50,return_sequences=True))\n",
    "# model.add(Dropout(0.2))\n",
    "# model.add(LSTM(units=50))\n",
    "# model.add(Dropout(0.2))\n",
    "# model.add(Dense(units=1))\n",
    "# model.compile(optimizer='adam',loss='mean_squared_error')\n",
    "# model.fit(X_train,y_train,epochs=20,batch_size=32)"
   ]
  },
  {
   "cell_type": "code",
   "execution_count": 11,
   "metadata": {},
   "outputs": [
    {
     "name": "stdout",
     "output_type": "stream",
     "text": [
      "Epoch 1/50\n",
      "6/6 [==============================] - 5s 10ms/step - loss: 0.4098\n",
      "Epoch 2/50\n",
      "6/6 [==============================] - 0s 9ms/step - loss: 0.1093\n",
      "Epoch 3/50\n",
      "6/6 [==============================] - 0s 9ms/step - loss: 0.0799\n",
      "Epoch 4/50\n",
      "6/6 [==============================] - 0s 9ms/step - loss: 0.0326\n",
      "Epoch 5/50\n",
      "6/6 [==============================] - 0s 8ms/step - loss: 0.0396\n",
      "Epoch 6/50\n",
      "6/6 [==============================] - 0s 9ms/step - loss: 0.0265\n",
      "Epoch 7/50\n",
      "6/6 [==============================] - 0s 9ms/step - loss: 0.0214\n",
      "Epoch 8/50\n",
      "6/6 [==============================] - 0s 9ms/step - loss: 0.0205\n",
      "Epoch 9/50\n",
      "6/6 [==============================] - 0s 9ms/step - loss: 0.0204\n",
      "Epoch 10/50\n",
      "6/6 [==============================] - 0s 9ms/step - loss: 0.0191\n",
      "Epoch 11/50\n",
      "6/6 [==============================] - 0s 9ms/step - loss: 0.0136\n",
      "Epoch 12/50\n",
      "6/6 [==============================] - 0s 9ms/step - loss: 0.0169\n",
      "Epoch 13/50\n",
      "6/6 [==============================] - 0s 9ms/step - loss: 0.0143\n",
      "Epoch 14/50\n",
      "6/6 [==============================] - 0s 9ms/step - loss: 0.0130\n",
      "Epoch 15/50\n",
      "6/6 [==============================] - 0s 9ms/step - loss: 0.0126\n",
      "Epoch 16/50\n",
      "6/6 [==============================] - 0s 8ms/step - loss: 0.0108\n",
      "Epoch 17/50\n",
      "6/6 [==============================] - 0s 9ms/step - loss: 0.0121\n",
      "Epoch 18/50\n",
      "6/6 [==============================] - 0s 9ms/step - loss: 0.0115\n",
      "Epoch 19/50\n",
      "6/6 [==============================] - 0s 9ms/step - loss: 0.0112\n",
      "Epoch 20/50\n",
      "6/6 [==============================] - 0s 9ms/step - loss: 0.0118\n",
      "Epoch 21/50\n",
      "6/6 [==============================] - 0s 10ms/step - loss: 0.0111\n",
      "Epoch 22/50\n",
      "6/6 [==============================] - 0s 9ms/step - loss: 0.0115\n",
      "Epoch 23/50\n",
      "6/6 [==============================] - 0s 9ms/step - loss: 0.0124\n",
      "Epoch 24/50\n",
      "6/6 [==============================] - 0s 9ms/step - loss: 0.0118\n",
      "Epoch 25/50\n",
      "6/6 [==============================] - 0s 8ms/step - loss: 0.0117\n",
      "Epoch 26/50\n",
      "6/6 [==============================] - 0s 8ms/step - loss: 0.0110\n",
      "Epoch 27/50\n",
      "6/6 [==============================] - 0s 9ms/step - loss: 0.0123\n",
      "Epoch 28/50\n",
      "6/6 [==============================] - 0s 9ms/step - loss: 0.0114\n",
      "Epoch 29/50\n",
      "6/6 [==============================] - 0s 8ms/step - loss: 0.0108\n",
      "Epoch 30/50\n",
      "6/6 [==============================] - 0s 9ms/step - loss: 0.0097\n",
      "Epoch 31/50\n",
      "6/6 [==============================] - 0s 9ms/step - loss: 0.0102\n",
      "Epoch 32/50\n",
      "6/6 [==============================] - 0s 9ms/step - loss: 0.0117\n",
      "Epoch 33/50\n",
      "6/6 [==============================] - 0s 9ms/step - loss: 0.0098\n",
      "Epoch 34/50\n",
      "6/6 [==============================] - 0s 8ms/step - loss: 0.0100\n",
      "Epoch 35/50\n",
      "6/6 [==============================] - 0s 10ms/step - loss: 0.0104\n",
      "Epoch 36/50\n",
      "6/6 [==============================] - 0s 14ms/step - loss: 0.0100\n",
      "Epoch 37/50\n",
      "6/6 [==============================] - 0s 9ms/step - loss: 0.0110\n",
      "Epoch 38/50\n",
      "6/6 [==============================] - 0s 9ms/step - loss: 0.0089\n",
      "Epoch 39/50\n",
      "6/6 [==============================] - 0s 9ms/step - loss: 0.0089\n",
      "Epoch 40/50\n",
      "6/6 [==============================] - 0s 9ms/step - loss: 0.0088\n",
      "Epoch 41/50\n",
      "6/6 [==============================] - 0s 8ms/step - loss: 0.0104\n",
      "Epoch 42/50\n",
      "6/6 [==============================] - 0s 9ms/step - loss: 0.0117\n",
      "Epoch 43/50\n",
      "6/6 [==============================] - 0s 9ms/step - loss: 0.0112\n",
      "Epoch 44/50\n",
      "6/6 [==============================] - 0s 9ms/step - loss: 0.0099\n",
      "Epoch 45/50\n",
      "6/6 [==============================] - 0s 9ms/step - loss: 0.0093\n",
      "Epoch 46/50\n",
      "6/6 [==============================] - 0s 9ms/step - loss: 0.0100\n",
      "Epoch 47/50\n",
      "6/6 [==============================] - 0s 9ms/step - loss: 0.0119\n",
      "Epoch 48/50\n",
      "6/6 [==============================] - 0s 9ms/step - loss: 0.0093\n",
      "Epoch 49/50\n",
      "6/6 [==============================] - 0s 9ms/step - loss: 0.0097\n",
      "Epoch 50/50\n",
      "6/6 [==============================] - 0s 9ms/step - loss: 0.0089\n"
     ]
    }
   ],
   "source": [
    "red = Sequential()\n",
    "red.add(LSTM(units=50,return_sequences=True,input_shape=(X_train_c.shape[1], 1)))\n",
    "red.add(Dropout(0.2))\n",
    "red.add(LSTM(units=50,return_sequences=True))\n",
    "red.add(Dropout(0.2))\n",
    "red.add(LSTM(units=50,return_sequences=True))\n",
    "red.add(Dropout(0.2))\n",
    "red.add(LSTM(units=50))\n",
    "red.add(Dropout(0.2))\n",
    "red.add(Dense(units=1))\n",
    "red.compile(optimizer='adam',loss='mean_squared_error')\n",
    "history = red.fit(X_train_c,y_train_c,epochs=50,batch_size=32)"
   ]
  },
  {
   "cell_type": "code",
   "execution_count": 21,
   "metadata": {},
   "outputs": [
    {
     "name": "stdout",
     "output_type": "stream",
     "text": [
      "[0.40977349877357483, 0.10925578325986862, 0.07987861335277557, 0.03258052095770836, 0.03963518887758255, 0.02650648169219494, 0.021430127322673798, 0.020482821390032768, 0.02040085196495056, 0.019065164029598236, 0.013553439639508724, 0.0169476680457592, 0.014300898648798466, 0.012991362251341343, 0.012633449397981167, 0.010835636407136917, 0.012053626589477062, 0.011529093608260155, 0.01118399202823639, 0.011839601211249828, 0.01106799952685833, 0.01154200080782175, 0.012379107996821404, 0.01181674562394619, 0.011698851361870766, 0.01102545764297247, 0.012324634939432144, 0.011430259793996811, 0.010814284905791283, 0.009701876901090145, 0.010238639079034328, 0.011661937460303307, 0.009827140718698502, 0.009965592995285988, 0.010366838425397873, 0.010048800148069859, 0.011005265638232231, 0.008910076692700386, 0.008896516636013985, 0.008811593987047672, 0.010408652946352959, 0.011706187389791012, 0.011207837611436844, 0.009913600981235504, 0.009253179654479027, 0.010011403821408749, 0.011881863698363304, 0.00933077558875084, 0.009671184234321117, 0.008909537456929684]\n"
     ]
    },
    {
     "data": {
      "image/png": "[encoded data removed]",
      "text/plain": [
       "<Figure size 640x480 with 1 Axes>"
      ]
     },
     "metadata": {},
     "output_type": "display_data"
    }
   ],
   "source": [
    "# Obtener la pérdida durante el entrenamiento\n",
    "losses = history.history['loss']\n",
    "print(losses)\n",
    "plt.plot(range(len(losses)),losses)\n",
    "plt.show()"
   ]
  },
  {
   "cell_type": "code",
   "execution_count": 13,
   "metadata": {},
   "outputs": [],
   "source": [
    "url = 'https://raw.githubusercontent.com/mwitiderrick/stockprice/master/tatatest.csv'\n",
    "dataset_test = pd.read_csv(url)\n",
    "real_stock_price = dataset_test.iloc[:, 1:2].values\n",
    "\n"
   ]
  },
  {
   "cell_type": "code",
   "execution_count": 14,
   "metadata": {},
   "outputs": [],
   "source": [
    "real_stock_price_cierre = cierre[int(len(cierre) * 0.7):]\n",
    "real_stock_price_cierre = np.reshape(real_stock_price_cierre, (real_stock_price_cierre.shape[0], 1))"
   ]
  },
  {
   "cell_type": "code",
   "execution_count": 15,
   "metadata": {},
   "outputs": [],
   "source": [
    "# print(dataset_train['Open'])\n",
    "# print(dataset_test['Open'])\n",
    "# dataset_total = pd.concat((dataset_train['Open'], dataset_test['Open']), axis = 0)\n",
    "# # print(f\"dataset_total: {dataset_total}, len: {len(dataset_total)}\")\n",
    "# # print(len(dataset_total) - len(dataset_test) - 60)\n",
    "# #print(dataset_total)\n",
    "\n",
    "# inputs = dataset_total[len(dataset_total) - len(dataset_test) - 60:].values#toma los primeros 76 elementos del dataset_total (que son los de entrenamiento)\n",
    "# print(type(dataset_total))\n",
    "# #le quita el conjunto de prueba - los ultimos 60 datos de entrenamiento\n",
    "# # print(f\"inputs: {inputs}, len: {len(inputs)}\")\n",
    "# print(f\"inputs.shape {inputs.shape}\")\n",
    "\n",
    "# inputs = inputs.reshape(-1,1)\n",
    "# print(f\"inputs.shape {inputs.shape}\")\n",
    "# inputs = sc.transform(inputs)\n",
    "# X_test = []\n",
    "# for i in range(60, 76):\n",
    "#     X_test.append(inputs[i-60:i, 0])\n",
    "# X_test = np.array(X_test)\n",
    "# X_test = np.reshape(X_test, (X_test.shape[0], X_test.shape[1], 1))\n",
    "# predicted_stock_price = model.predict(X_test)\n",
    "# predicted_stock_price = sc.inverse_transform(predicted_stock_price)"
   ]
  },
  {
   "cell_type": "code",
   "execution_count": 16,
   "metadata": {},
   "outputs": [
    {
     "name": "stdout",
     "output_type": "stream",
     "text": [
      "86\n",
      "86\n",
      "(86, 1)\n",
      "3/3 [==============================] - 1s 3ms/step\n"
     ]
    }
   ],
   "source": [
    "# dataset_total = pd.concat((dataset_train['Open'], dataset_test['Open']), axis = 0)\n",
    "# inputs = dataset_total[len(dataset_total) - len(dataset_test) - time_steps:].values\n",
    "\n",
    "inputs_cierre = cierre[len(cierre) - len(real_stock_price_cierre) - time_steps:]\n",
    "print(len(inputs_cierre))\n",
    "inputs_cierre = np.array(inputs_cierre).reshape(-1,1)\n",
    "print(len(inputs_cierre))\n",
    "print(inputs_cierre.shape)\n",
    "inputs_cierre = m_m_s.transform(inputs_cierre)\n",
    "X_test_cierre = []\n",
    "for i in range(time_steps, len(inputs_cierre)):\n",
    "    X_test_cierre.append(inputs_cierre[i-time_steps:i, 0])\n",
    "X_test_cierre = np.array(X_test_cierre)\n",
    "X_test_cierre = np.reshape(X_test_cierre, (X_test_cierre.shape[0], X_test_cierre.shape[1], 1))\n",
    "predicted_stock_price_cierre = red.predict(X_test_cierre)\n",
    "predicted_stock_price_cierre = m_m_s.inverse_transform(predicted_stock_price_cierre)"
   ]
  },
  {
   "cell_type": "code",
   "execution_count": 17,
   "metadata": {},
   "outputs": [],
   "source": [
    "# plt.plot(real_stock_price, color = 'black', label = 'TATA Stock Price')\n",
    "# plt.plot(predicted_stock_price, color = 'green', label = 'Predicted TATA Stock Price')\n",
    "# plt.title('TATA Stock Price Prediction')\n",
    "# plt.xlabel('Time')\n",
    "# plt.ylabel('TATA Stock Price')\n",
    "# plt.legend()\n",
    "# plt.show()"
   ]
  },
  {
   "cell_type": "code",
   "execution_count": 18,
   "metadata": {},
   "outputs": [
    {
     "data": {
      "image/png": "[encoded data removed]",
      "text/plain": [
       "<Figure size 640x480 with 1 Axes>"
      ]
     },
     "metadata": {},
     "output_type": "display_data"
    }
   ],
   "source": [
    "plt.plot(real_stock_price_cierre, color = 'black', label = 'COMI original Stock prices')\n",
    "plt.plot(predicted_stock_price_cierre, color = 'green', label = 'Predicted COMI closing Stock prices')\n",
    "plt.title('COMI Stock Price Prediction')\n",
    "plt.xlabel('Time')\n",
    "plt.ylabel('COMI Stock Price')\n",
    "plt.legend()\n",
    "plt.show()"
   ]
  },
  {
   "cell_type": "code",
   "execution_count": 19,
   "metadata": {},
   "outputs": [
    {
     "name": "stdout",
     "output_type": "stream",
     "text": [
      "tensor(9.9085, dtype=torch.float64)\n"
     ]
    }
   ],
   "source": [
    "import torch\n",
    "import torch.nn as nn\n",
    "criterion = nn.MSELoss()\n",
    "perdida = criterion(torch.tensor(real_stock_price_cierre),torch.tensor(predicted_stock_price_cierre))\n",
    "print(perdida)"
   ]
  }
 ],
 "metadata": {
  "kernelspec": {
   "display_name": "Python 3",
   "language": "python",
   "name": "python3"
  },
  "language_info": {
   "codemirror_mode": {
    "name": "ipython",
    "version": 3
   },
   "file_extension": ".py",
   "mimetype": "text/x-python",
   "name": "python",
   "nbconvert_exporter": "python",
   "pygments_lexer": "ipython3",
   "version": "3.11.6"
  }
 },
 "nbformat": 4,
 "nbformat_minor": 2
}
