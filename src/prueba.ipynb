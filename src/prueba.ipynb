{
 "cells": [
  {
   "cell_type": "code",
   "execution_count": null,
   "metadata": {},
   "outputs": [],
   "source": [
    "import torch, numpy as np\n",
    "import torch.nn as nn\n",
    "import torch.optim as optim\n",
    "\n",
    "criterion = nn.MSELoss()\n",
    "\n",
    "\n",
    "#optimizer = optim.SGD(red.parameters(), lr=0.1, momentum=0.4)#,maximize=True)\n",
    "#optimizer.zero_grad()\n",
    "output = #modelo(input_data)\n",
    "target = \n",
    "loss = criterion(output, target)\n",
    "print(loss)\n",
    "loss.backward()\n",
    "h = torch.autograd.functional.hessian(loss)#calcula el hessiana de la funcion de perdida\n",
    "h+ lambda \n",
    "print(loss.backward())\n",
    "optimizer.step()"
   ]
  }
 ],
 "metadata": {
  "language_info": {
   "name": "python"
  },
  "orig_nbformat": 4
 },
 "nbformat": 4,
 "nbformat_minor": 2
}
