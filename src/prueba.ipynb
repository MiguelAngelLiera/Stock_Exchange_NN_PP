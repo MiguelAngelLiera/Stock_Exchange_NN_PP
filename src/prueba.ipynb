{
 "cells": [
  {
   "cell_type": "code",
   "execution_count": 3,
   "metadata": {},
   "outputs": [
    {
     "name": "stdout",
     "output_type": "stream",
     "text": [
      "<class 'torch.nn.modules.loss.MSELoss'>\n"
     ]
    }
   ],
   "source": [
    "import torch, numpy as np\n",
    "import torch.nn as nn\n",
    "import torch.optim as optim\n",
    "from NARNN import NARNN\n",
    "\n",
    "criterion = nn.MSELoss()\n",
    "\n",
    "print(type(criterion))\n",
    "red_A1 = NARNN(input_dim=8, hidden_dim=0, output_dim=1, num_layers=0)"
   ]
  },
  {
   "cell_type": "code",
   "execution_count": 9,
   "metadata": {},
   "outputs": [
    {
     "name": "stdout",
     "output_type": "stream",
     "text": [
      "param: tensor([[ 0.0306, -0.2700, -0.3076, -0.1457,  0.0648, -0.0305,  0.2295, -0.0347],\n",
      "        [ 0.1738,  0.2506, -0.1698,  0.0560,  0.2140, -0.1697,  0.3032,  0.2344],\n",
      "        [ 0.0642,  0.1717,  0.1010, -0.0543,  0.0139,  0.0171,  0.0621,  0.2407],\n",
      "        [ 0.0386,  0.2159, -0.2509,  0.2676,  0.2706, -0.2514,  0.3378,  0.2388],\n",
      "        [-0.2808,  0.2393, -0.1973,  0.2496, -0.1336,  0.2010, -0.2497, -0.2740],\n",
      "        [-0.2123, -0.1501, -0.1775, -0.3422, -0.3509, -0.0305, -0.1704,  0.0138],\n",
      "        [ 0.1042, -0.2050, -0.2446,  0.2154, -0.1146, -0.3181, -0.2942, -0.2401],\n",
      "        [-0.0086,  0.0993, -0.2734,  0.2779,  0.0251,  0.1777,  0.0485,  0.2005],\n",
      "        [ 0.1824,  0.3385, -0.3154, -0.0490,  0.1974, -0.2691,  0.1530, -0.1984],\n",
      "        [ 0.0578,  0.2758, -0.1836,  0.2342, -0.0699, -0.0755, -0.1483,  0.3127]])\n",
      "param: tensor([ 0.2313,  0.1151,  0.1468,  0.2721,  0.3513, -0.0596,  0.1653,  0.1836,\n",
      "        -0.3422,  0.0179])\n",
      "param: tensor([[-0.1319,  0.0419,  0.2488,  0.2029,  0.1898,  0.0434, -0.2203,  0.0692,\n",
      "          0.0408, -0.2387],\n",
      "        [-0.0539, -0.1801,  0.2644, -0.3041,  0.2358, -0.1569, -0.0668, -0.1576,\n",
      "          0.2191, -0.0619],\n",
      "        [-0.2354,  0.0055,  0.1699,  0.1977,  0.2426,  0.2415,  0.2343, -0.0810,\n",
      "          0.1089, -0.2181],\n",
      "        [-0.1773, -0.1519,  0.3098,  0.0376,  0.1994,  0.1489,  0.1735, -0.2352,\n",
      "         -0.1703,  0.3042],\n",
      "        [ 0.2517,  0.1772,  0.3142,  0.0116, -0.0809,  0.3162, -0.2240,  0.2037,\n",
      "         -0.1408,  0.0684],\n",
      "        [ 0.1107, -0.1391, -0.0325, -0.2989, -0.1476, -0.2083, -0.2298,  0.1545,\n",
      "          0.2519,  0.2108],\n",
      "        [-0.2952, -0.2519,  0.1966,  0.3131,  0.1676,  0.2580, -0.2325,  0.1432,\n",
      "         -0.0941, -0.2927],\n",
      "        [-0.0301,  0.2926,  0.1620, -0.0217,  0.2377,  0.1372,  0.0097, -0.2139,\n",
      "          0.0947, -0.0985],\n",
      "        [-0.0935,  0.1650,  0.0166, -0.3093, -0.0138,  0.1657,  0.1203,  0.2744,\n",
      "         -0.0163, -0.2428],\n",
      "        [-0.0204,  0.1973, -0.1206, -0.1037,  0.0241,  0.2051,  0.0133, -0.0989,\n",
      "          0.2377,  0.2070]])\n",
      "param: tensor([-0.1234,  0.1346, -0.2933,  0.0229, -0.1433, -0.1520,  0.2708,  0.0259,\n",
      "         0.1350, -0.0758])\n",
      "param: tensor([[ 0.2020, -0.2475, -0.1553,  0.1215, -0.1260, -0.0968, -0.0005,  0.2471,\n",
      "         -0.3047,  0.0531]])\n",
      "param: tensor([-0.0073])\n"
     ]
    }
   ],
   "source": [
    "for p in red_A1.parameters():\n",
    "    print(\"param: \" + str(p.data))"
   ]
  },
  {
   "cell_type": "code",
   "execution_count": 12,
   "metadata": {},
   "outputs": [
    {
     "ename": "NameError",
     "evalue": "name 'i' is not defined",
     "output_type": "error",
     "traceback": [
      "\u001b[0;31m---------------------------------------------------------------------------\u001b[0m",
      "\u001b[0;31mNameError\u001b[0m                                 Traceback (most recent call last)",
      "\u001b[0;32m/tmp/ipykernel_12308/1899232229.py\u001b[0m in \u001b[0;36m<module>\u001b[0;34m\u001b[0m\n\u001b[1;32m      6\u001b[0m \u001b[0;34m\u001b[0m\u001b[0m\n\u001b[1;32m      7\u001b[0m \u001b[0;32mfor\u001b[0m \u001b[0mj\u001b[0m \u001b[0;32min\u001b[0m \u001b[0mred_A1\u001b[0m\u001b[0;34m.\u001b[0m\u001b[0mparameters\u001b[0m\u001b[0;34m(\u001b[0m\u001b[0;34m)\u001b[0m\u001b[0;34m:\u001b[0m\u001b[0;34m\u001b[0m\u001b[0;34m\u001b[0m\u001b[0m\n\u001b[0;32m----> 8\u001b[0;31m     \u001b[0mprint\u001b[0m\u001b[0;34m(\u001b[0m\u001b[0mi\u001b[0m\u001b[0;34m)\u001b[0m\u001b[0;34m\u001b[0m\u001b[0;34m\u001b[0m\u001b[0m\n\u001b[0m\u001b[1;32m      9\u001b[0m \u001b[0;34m\u001b[0m\u001b[0m\n\u001b[1;32m     10\u001b[0m \u001b[0mmy_MSEloss\u001b[0m\u001b[0;34m(\u001b[0m\u001b[0;34m[\u001b[0m\u001b[0mtorch\u001b[0m\u001b[0;34m.\u001b[0m\u001b[0mzeros_like\u001b[0m\u001b[0;34m(\u001b[0m\u001b[0mtensor\u001b[0m\u001b[0;34m)\u001b[0m \u001b[0;32mfor\u001b[0m \u001b[0mtensor\u001b[0m \u001b[0;32min\u001b[0m \u001b[0mred_A1\u001b[0m\u001b[0;34m.\u001b[0m\u001b[0mparameters\u001b[0m\u001b[0;34m(\u001b[0m\u001b[0;34m)\u001b[0m\u001b[0;34m]\u001b[0m\u001b[0;34m)\u001b[0m\u001b[0;34m\u001b[0m\u001b[0;34m\u001b[0m\u001b[0m\n",
      "\u001b[0;31mNameError\u001b[0m: name 'i' is not defined"
     ]
    }
   ],
   "source": [
    "def my_MSEloss(params):\n",
    "    c = 0\n",
    "    for param in red_A1.parameters():\n",
    "        param = params[c]\n",
    "        c = c + 1\n",
    "\n",
    "for j in red_A1.parameters():\n",
    "    print(j)\n",
    "\n",
    "my_MSEloss([torch.zeros_like(tensor) for tensor in red_A1.parameters()])\n",
    "for i in red_A1.parameters():\n",
    "    print(i)"
   ]
  },
  {
   "cell_type": "code",
   "execution_count": null,
   "metadata": {},
   "outputs": [],
   "source": [
    "\n",
    "\n",
    "\n",
    "#optimizer = optim.SGD(red.parameters(), lr=0.1, momentum=0.4)#,maximize=True)\n",
    "#optimizer.zero_grad()\n",
    "output = #modelo(input_data)\n",
    "target = \n",
    "loss = criterion(output, target)\n",
    "print(loss)\n",
    "loss.backward()\n",
    "h = torch.autograd.functional.hessian(loss)#calcula el hessiana de la funcion de perdida\n",
    "h+ lambda \n",
    "print(loss.backward())\n",
    "optimizer.step()"
   ]
  },
  {
   "cell_type": "code",
   "execution_count": null,
   "metadata": {},
   "outputs": [],
   "source": [
    "criterion = nn.MSELoss()"
   ]
  }
 ],
 "metadata": {
  "kernelspec": {
   "display_name": "base",
   "language": "python",
   "name": "python3"
  },
  "language_info": {
   "codemirror_mode": {
    "name": "ipython",
    "version": 3
   },
   "file_extension": ".py",
   "mimetype": "text/x-python",
   "name": "python",
   "nbconvert_exporter": "python",
   "pygments_lexer": "ipython3",
   "version": "3.9.7"
  },
  "orig_nbformat": 4
 },
 "nbformat": 4,
 "nbformat_minor": 2
}
