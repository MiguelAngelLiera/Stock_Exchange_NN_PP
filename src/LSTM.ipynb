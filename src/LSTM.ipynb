{
 "cells": [
  {
   "cell_type": "code",
   "execution_count": 1,
   "metadata": {},
   "outputs": [],
   "source": [
    "import numpy as np\n",
    "import matplotlib.pyplot as plt\n",
    "import pandas as pd\n",
    "import reader1 as rd"
   ]
  },
  {
   "cell_type": "code",
   "execution_count": 2,
   "metadata": {},
   "outputs": [
    {
     "name": "stdout",
     "output_type": "stream",
     "text": [
      "Número de filas: (2035, 1)\n",
      "Número de filas: (182, 1)\n"
     ]
    }
   ],
   "source": [
    "url = 'https://raw.githubusercontent.com/mwitiderrick/stockprice/master/NSE-TATAGLOBAL.csv'\n",
    "DATOS = 'Datos históricos COMI 3ene16-31dic2020 semanal.csv' #Datos semanales\n",
    "dataset_train = pd.read_csv(url)\n",
    "# iloc (index location) extrae por filas y columnas de un dataframe dataframe.iloc[filas, columnas]\n",
    "training_set = dataset_train.iloc[:, 1:2].values\n",
    "cierre = rd.leer_archivo(DATOS)\n",
    "#se convierten todos los valores a flotantes\n",
    "cierre = cierre.astype(float)\n",
    "training_set_ = cierre[:int(len(cierre) * 0.7)]\n",
    "#print(training_set_)\n",
    "training_set_ = np.array(training_set_)\n",
    "training_set_ = np.reshape(training_set_, (training_set_.shape[0], 1))\n",
    "print(f\"Número de filas: {training_set.shape}\")\n",
    "print(f\"Número de filas: {training_set_.shape}\")"
   ]
  },
  {
   "cell_type": "code",
   "execution_count": 3,
   "metadata": {},
   "outputs": [
    {
     "data": {
      "text/html": [
       "<div>\n",
       "<style scoped>\n",
       "    .dataframe tbody tr th:only-of-type {\n",
       "        vertical-align: middle;\n",
       "    }\n",
       "\n",
       "    .dataframe tbody tr th {\n",
       "        vertical-align: top;\n",
       "    }\n",
       "\n",
       "    .dataframe thead th {\n",
       "        text-align: right;\n",
       "    }\n",
       "</style>\n",
       "<table border=\"1\" class=\"dataframe\">\n",
       "  <thead>\n",
       "    <tr style=\"text-align: right;\">\n",
       "      <th></th>\n",
       "      <th>Date</th>\n",
       "      <th>Open</th>\n",
       "      <th>High</th>\n",
       "      <th>Low</th>\n",
       "      <th>Last</th>\n",
       "      <th>Close</th>\n",
       "      <th>Total Trade Quantity</th>\n",
       "      <th>Turnover (Lacs)</th>\n",
       "    </tr>\n",
       "  </thead>\n",
       "  <tbody>\n",
       "    <tr>\n",
       "      <th>0</th>\n",
       "      <td>2018-09-28</td>\n",
       "      <td>234.05</td>\n",
       "      <td>235.95</td>\n",
       "      <td>230.20</td>\n",
       "      <td>233.50</td>\n",
       "      <td>233.75</td>\n",
       "      <td>3069914</td>\n",
       "      <td>7162.35</td>\n",
       "    </tr>\n",
       "    <tr>\n",
       "      <th>1</th>\n",
       "      <td>2018-09-27</td>\n",
       "      <td>234.55</td>\n",
       "      <td>236.80</td>\n",
       "      <td>231.10</td>\n",
       "      <td>233.80</td>\n",
       "      <td>233.25</td>\n",
       "      <td>5082859</td>\n",
       "      <td>11859.95</td>\n",
       "    </tr>\n",
       "    <tr>\n",
       "      <th>2</th>\n",
       "      <td>2018-09-26</td>\n",
       "      <td>240.00</td>\n",
       "      <td>240.00</td>\n",
       "      <td>232.50</td>\n",
       "      <td>235.00</td>\n",
       "      <td>234.25</td>\n",
       "      <td>2240909</td>\n",
       "      <td>5248.60</td>\n",
       "    </tr>\n",
       "    <tr>\n",
       "      <th>3</th>\n",
       "      <td>2018-09-25</td>\n",
       "      <td>233.30</td>\n",
       "      <td>236.75</td>\n",
       "      <td>232.00</td>\n",
       "      <td>236.25</td>\n",
       "      <td>236.10</td>\n",
       "      <td>2349368</td>\n",
       "      <td>5503.90</td>\n",
       "    </tr>\n",
       "    <tr>\n",
       "      <th>4</th>\n",
       "      <td>2018-09-24</td>\n",
       "      <td>233.55</td>\n",
       "      <td>239.20</td>\n",
       "      <td>230.75</td>\n",
       "      <td>234.00</td>\n",
       "      <td>233.30</td>\n",
       "      <td>3423509</td>\n",
       "      <td>7999.55</td>\n",
       "    </tr>\n",
       "  </tbody>\n",
       "</table>\n",
       "</div>"
      ],
      "text/plain": [
       "         Date    Open    High     Low    Last   Close  Total Trade Quantity  \\\n",
       "0  2018-09-28  234.05  235.95  230.20  233.50  233.75               3069914   \n",
       "1  2018-09-27  234.55  236.80  231.10  233.80  233.25               5082859   \n",
       "2  2018-09-26  240.00  240.00  232.50  235.00  234.25               2240909   \n",
       "3  2018-09-25  233.30  236.75  232.00  236.25  236.10               2349368   \n",
       "4  2018-09-24  233.55  239.20  230.75  234.00  233.30               3423509   \n",
       "\n",
       "   Turnover (Lacs)  \n",
       "0          7162.35  \n",
       "1         11859.95  \n",
       "2          5248.60  \n",
       "3          5503.90  \n",
       "4          7999.55  "
      ]
     },
     "execution_count": 3,
     "metadata": {},
     "output_type": "execute_result"
    }
   ],
   "source": [
    "dataset_train.head()"
   ]
  },
  {
   "cell_type": "markdown",
   "metadata": {},
   "source": [
    "# Normalización"
   ]
  },
  {
   "cell_type": "code",
   "execution_count": 4,
   "metadata": {},
   "outputs": [
    {
     "name": "stderr",
     "output_type": "stream",
     "text": [
      "/home/miguel/anaconda3/lib/python3.9/site-packages/scipy/__init__.py:146: UserWarning: A NumPy version >=1.16.5 and <1.23.0 is required for this version of SciPy (detected version 1.26.0\n",
      "  warnings.warn(f\"A NumPy version >={np_minversion} and <{np_maxversion}\"\n"
     ]
    },
    {
     "data": {
      "image/png": "[encoded data removed]",
      "text/plain": [
       "<Figure size 1728x216 with 2 Axes>"
      ]
     },
     "metadata": {
      "needs_background": "light"
     },
     "output_type": "display_data"
    },
    {
     "name": "stdout",
     "output_type": "stream",
     "text": [
      "2035\n"
     ]
    }
   ],
   "source": [
    "from sklearn.preprocessing import MinMaxScaler\n",
    "#Crea una instancia de la clase MinMaxScaler. El parámetro feature_range especifica el rango al cual se deben escalar los datos.\n",
    "sc = MinMaxScaler(feature_range=(0,1))\n",
    "#Utiliza el objeto sc para ajustar y transformar (fit_transform) el conjunto de entrenamiento original (training_set). \n",
    "# La función fit_transform calcula los parámetros necesarios para la transformación (como mínimo y máximo) \n",
    "# a partir del conjunto de entrenamiento y luego aplica la transformación.\n",
    "training_set_scaled = sc.fit_transform(training_set)\n",
    "training_set_scaled_ = sc.fit_transform(training_set_)\n",
    "#print(training_set_scaled)\n",
    "plt.figure(figsize=(24, 3))\n",
    "plt.subplot(1, 2, 1)\n",
    "plt.plot(range(len(training_set_scaled)), training_set_scaled)\n",
    "plt.subplot(1, 2, 2)\n",
    "plt.plot(range(len(training_set_scaled_)), training_set_scaled_)\n",
    "\n",
    "plt.tight_layout()\n",
    "plt.show()\n",
    "\n",
    "print(len(training_set_scaled))"
   ]
  },
  {
   "cell_type": "code",
   "execution_count": 5,
   "metadata": {},
   "outputs": [],
   "source": [
    "X_train = []\n",
    "y_train = []\n",
    "time_steps = 60\n",
    "N = len(training_set_scaled)\n",
    "\n",
    "for i in range(time_steps, N):#va desde 60 hasta el numero de datos\n",
    "# training_set_scaled es un arreglo de dos dimensiones (2035, 1), se van formando paquetes de 60 en 60, con un corrimiento de 1\n",
    "    X_train.append(training_set_scaled[i-time_steps:i, 0])\n",
    "    y_train.append(training_set_scaled[i, 0])\n",
    "X_train, y_train = np.array(X_train), np.array(y_train)\n",
    "# X_train.shape[0] = 1975, X_train.shape[1] = 60, 1975 paquetes de tamaño 60 cada uno\n",
    "X_train = np.reshape(X_train, (X_train.shape[0], X_train.shape[1], 1))# new shape (1975, 60, 1),"
   ]
  },
  {
   "cell_type": "code",
   "execution_count": 6,
   "metadata": {},
   "outputs": [
    {
     "name": "stdout",
     "output_type": "stream",
     "text": [
      "(174, 8)\n",
      "(174, 8, 1)\n"
     ]
    }
   ],
   "source": [
    "X_train_ = []\n",
    "y_train_ = []\n",
    "\n",
    "time_steps_ = 8\n",
    "N_ = len(training_set_scaled_)\n",
    "\n",
    "for i in range(time_steps_, N_): \n",
    "    X_train_.append(training_set_scaled_[i-time_steps_:i, 0])\n",
    "    y_train_.append(training_set_scaled_[i, 0])\n",
    "print(np.array(X_train_).shape)\n",
    "\n",
    "X_train_, y_train_ = np.array(X_train_), np.array(y_train_)\n",
    "X_train_ = np.reshape(X_train_, (X_train_.shape[0], X_train_.shape[1], 1))\n",
    "print(X_train_.shape) # new shape (1975, 60, 1), "
   ]
  },
  {
   "cell_type": "code",
   "execution_count": 7,
   "metadata": {},
   "outputs": [
    {
     "name": "stderr",
     "output_type": "stream",
     "text": [
      "2023-11-26 13:55:05.902126: I tensorflow/tsl/cuda/cudart_stub.cc:28] Could not find cuda drivers on your machine, GPU will not be used.\n",
      "2023-11-26 13:55:05.939445: E tensorflow/compiler/xla/stream_executor/cuda/cuda_dnn.cc:9342] Unable to register cuDNN factory: Attempting to register factory for plugin cuDNN when one has already been registered\n",
      "2023-11-26 13:55:05.939485: E tensorflow/compiler/xla/stream_executor/cuda/cuda_fft.cc:609] Unable to register cuFFT factory: Attempting to register factory for plugin cuFFT when one has already been registered\n",
      "2023-11-26 13:55:05.939516: E tensorflow/compiler/xla/stream_executor/cuda/cuda_blas.cc:1518] Unable to register cuBLAS factory: Attempting to register factory for plugin cuBLAS when one has already been registered\n",
      "2023-11-26 13:55:05.947613: I tensorflow/tsl/cuda/cudart_stub.cc:28] Could not find cuda drivers on your machine, GPU will not be used.\n",
      "2023-11-26 13:55:05.948664: I tensorflow/core/platform/cpu_feature_guard.cc:182] This TensorFlow binary is optimized to use available CPU instructions in performance-critical operations.\n",
      "To enable the following instructions: AVX2 FMA, in other operations, rebuild TensorFlow with the appropriate compiler flags.\n",
      "2023-11-26 13:55:06.840725: W tensorflow/compiler/tf2tensorrt/utils/py_utils.cc:38] TF-TRT Warning: Could not find TensorRT\n"
     ]
    }
   ],
   "source": [
    "from keras.models import Sequential\n",
    "from keras.layers import LSTM\n",
    "from keras.layers import Dropout\n",
    "from keras.layers import Dense"
   ]
  },
  {
   "cell_type": "code",
   "execution_count": 8,
   "metadata": {},
   "outputs": [
    {
     "name": "stdout",
     "output_type": "stream",
     "text": [
      "Epoch 1/100\n",
      "62/62 [==============================] - 9s 57ms/step - loss: 0.0109\n",
      "Epoch 2/100\n",
      "62/62 [==============================] - 4s 60ms/step - loss: 0.0030\n",
      "Epoch 3/100\n",
      "62/62 [==============================] - 4s 69ms/step - loss: 0.0028\n",
      "Epoch 4/100\n",
      "62/62 [==============================] - 4s 69ms/step - loss: 0.0022\n",
      "Epoch 5/100\n",
      "62/62 [==============================] - 5s 75ms/step - loss: 0.0027\n",
      "Epoch 6/100\n",
      "62/62 [==============================] - 4s 72ms/step - loss: 0.0020\n",
      "Epoch 7/100\n",
      "62/62 [==============================] - 4s 65ms/step - loss: 0.0020\n",
      "Epoch 8/100\n",
      "62/62 [==============================] - 5s 82ms/step - loss: 0.0021\n",
      "Epoch 9/100\n",
      "62/62 [==============================] - 5s 87ms/step - loss: 0.0019\n",
      "Epoch 10/100\n",
      "62/62 [==============================] - 5s 87ms/step - loss: 0.0023\n",
      "Epoch 11/100\n",
      "62/62 [==============================] - 6s 100ms/step - loss: 0.0018\n",
      "Epoch 12/100\n",
      "62/62 [==============================] - 6s 103ms/step - loss: 0.0022\n",
      "Epoch 13/100\n",
      "62/62 [==============================] - 7s 115ms/step - loss: 0.0018\n",
      "Epoch 14/100\n",
      "62/62 [==============================] - 6s 103ms/step - loss: 0.0017\n",
      "Epoch 15/100\n",
      "62/62 [==============================] - 6s 89ms/step - loss: 0.0015\n",
      "Epoch 16/100\n",
      "62/62 [==============================] - 5s 80ms/step - loss: 0.0017\n",
      "Epoch 17/100\n",
      "62/62 [==============================] - 5s 76ms/step - loss: 0.0015\n",
      "Epoch 18/100\n",
      "62/62 [==============================] - 5s 77ms/step - loss: 0.0016\n",
      "Epoch 19/100\n",
      "62/62 [==============================] - 4s 65ms/step - loss: 0.0014\n",
      "Epoch 20/100\n",
      "62/62 [==============================] - 4s 65ms/step - loss: 0.0014\n",
      "Epoch 21/100\n",
      "62/62 [==============================] - 4s 65ms/step - loss: 0.0015\n",
      "Epoch 22/100\n",
      "62/62 [==============================] - 4s 66ms/step - loss: 0.0016\n",
      "Epoch 23/100\n",
      "62/62 [==============================] - 4s 65ms/step - loss: 0.0014\n",
      "Epoch 24/100\n",
      "62/62 [==============================] - 4s 66ms/step - loss: 0.0014\n",
      "Epoch 25/100\n",
      "62/62 [==============================] - 4s 65ms/step - loss: 0.0013\n",
      "Epoch 26/100\n",
      "62/62 [==============================] - 4s 66ms/step - loss: 0.0012\n",
      "Epoch 27/100\n",
      "62/62 [==============================] - 4s 65ms/step - loss: 0.0012\n",
      "Epoch 28/100\n",
      "62/62 [==============================] - 4s 65ms/step - loss: 0.0011\n",
      "Epoch 29/100\n",
      "62/62 [==============================] - 4s 67ms/step - loss: 0.0010\n",
      "Epoch 30/100\n",
      "62/62 [==============================] - 4s 67ms/step - loss: 0.0011\n",
      "Epoch 31/100\n",
      "62/62 [==============================] - 4s 68ms/step - loss: 0.0012\n",
      "Epoch 32/100\n",
      "62/62 [==============================] - 4s 72ms/step - loss: 0.0012\n",
      "Epoch 33/100\n",
      "62/62 [==============================] - 4s 65ms/step - loss: 0.0012\n",
      "Epoch 34/100\n",
      "62/62 [==============================] - 4s 66ms/step - loss: 0.0011\n",
      "Epoch 35/100\n",
      "62/62 [==============================] - 4s 65ms/step - loss: 9.7423e-04\n",
      "Epoch 36/100\n",
      "62/62 [==============================] - 4s 67ms/step - loss: 0.0010\n",
      "Epoch 37/100\n",
      "62/62 [==============================] - 4s 65ms/step - loss: 0.0010\n",
      "Epoch 38/100\n",
      "62/62 [==============================] - 4s 66ms/step - loss: 0.0011\n",
      "Epoch 39/100\n",
      "62/62 [==============================] - 4s 67ms/step - loss: 0.0010\n",
      "Epoch 40/100\n",
      "62/62 [==============================] - 4s 66ms/step - loss: 9.9465e-04\n",
      "Epoch 41/100\n",
      "62/62 [==============================] - 4s 66ms/step - loss: 9.8976e-04\n",
      "Epoch 42/100\n",
      "62/62 [==============================] - 4s 66ms/step - loss: 0.0012\n",
      "Epoch 43/100\n",
      "62/62 [==============================] - 4s 68ms/step - loss: 9.0628e-04\n",
      "Epoch 44/100\n",
      "62/62 [==============================] - 4s 66ms/step - loss: 8.5950e-04\n",
      "Epoch 45/100\n",
      "62/62 [==============================] - 4s 66ms/step - loss: 9.5861e-04\n",
      "Epoch 46/100\n",
      "62/62 [==============================] - 4s 66ms/step - loss: 7.8847e-04\n",
      "Epoch 47/100\n",
      "62/62 [==============================] - 4s 66ms/step - loss: 8.5581e-04\n",
      "Epoch 48/100\n",
      "62/62 [==============================] - 4s 65ms/step - loss: 9.5605e-04\n",
      "Epoch 49/100\n",
      "62/62 [==============================] - 4s 66ms/step - loss: 8.1573e-04\n",
      "Epoch 50/100\n",
      "62/62 [==============================] - 4s 66ms/step - loss: 8.3917e-04\n",
      "Epoch 51/100\n",
      "62/62 [==============================] - 4s 66ms/step - loss: 9.2702e-04\n",
      "Epoch 52/100\n",
      "62/62 [==============================] - 4s 70ms/step - loss: 8.3987e-04\n",
      "Epoch 53/100\n",
      "62/62 [==============================] - 4s 71ms/step - loss: 8.6345e-04\n",
      "Epoch 54/100\n",
      "62/62 [==============================] - 4s 69ms/step - loss: 7.5662e-04\n",
      "Epoch 55/100\n",
      "62/62 [==============================] - 4s 67ms/step - loss: 7.8215e-04\n",
      "Epoch 56/100\n",
      "62/62 [==============================] - 4s 66ms/step - loss: 8.7092e-04\n",
      "Epoch 57/100\n",
      "62/62 [==============================] - 4s 66ms/step - loss: 7.8182e-04\n",
      "Epoch 58/100\n",
      "62/62 [==============================] - 5s 80ms/step - loss: 9.2044e-04\n",
      "Epoch 59/100\n",
      "62/62 [==============================] - 6s 104ms/step - loss: 6.7680e-04\n",
      "Epoch 60/100\n",
      "62/62 [==============================] - 6s 95ms/step - loss: 7.2640e-04\n",
      "Epoch 61/100\n",
      "62/62 [==============================] - 6s 89ms/step - loss: 8.1473e-04\n",
      "Epoch 62/100\n",
      "62/62 [==============================] - 6s 101ms/step - loss: 8.8386e-04\n",
      "Epoch 63/100\n",
      "62/62 [==============================] - 6s 93ms/step - loss: 9.1817e-04\n",
      "Epoch 64/100\n",
      "62/62 [==============================] - 6s 94ms/step - loss: 7.1725e-04\n",
      "Epoch 65/100\n",
      "62/62 [==============================] - 6s 89ms/step - loss: 7.5946e-04\n",
      "Epoch 66/100\n",
      "62/62 [==============================] - 6s 91ms/step - loss: 7.3598e-04\n",
      "Epoch 67/100\n",
      "62/62 [==============================] - 6s 89ms/step - loss: 7.6944e-04\n",
      "Epoch 68/100\n",
      "62/62 [==============================] - 6s 91ms/step - loss: 7.5720e-04\n",
      "Epoch 69/100\n",
      "62/62 [==============================] - 6s 93ms/step - loss: 6.8966e-04\n",
      "Epoch 70/100\n",
      "62/62 [==============================] - 6s 93ms/step - loss: 7.2647e-04\n",
      "Epoch 71/100\n",
      "62/62 [==============================] - 6s 92ms/step - loss: 6.4297e-04\n",
      "Epoch 72/100\n",
      "62/62 [==============================] - 6s 90ms/step - loss: 7.0968e-04\n",
      "Epoch 73/100\n",
      "62/62 [==============================] - 6s 93ms/step - loss: 7.3888e-04\n",
      "Epoch 74/100\n",
      "62/62 [==============================] - 6s 101ms/step - loss: 6.7801e-04\n",
      "Epoch 75/100\n",
      "62/62 [==============================] - 6s 91ms/step - loss: 7.7755e-04\n",
      "Epoch 76/100\n",
      "62/62 [==============================] - 6s 102ms/step - loss: 6.8993e-04\n",
      "Epoch 77/100\n",
      "62/62 [==============================] - 7s 107ms/step - loss: 7.3667e-04\n",
      "Epoch 78/100\n",
      "62/62 [==============================] - 6s 103ms/step - loss: 6.7763e-04\n",
      "Epoch 79/100\n",
      "62/62 [==============================] - 6s 98ms/step - loss: 6.7541e-04\n",
      "Epoch 80/100\n",
      "62/62 [==============================] - 6s 90ms/step - loss: 6.6802e-04\n",
      "Epoch 81/100\n",
      "62/62 [==============================] - 6s 92ms/step - loss: 7.3380e-04\n",
      "Epoch 82/100\n",
      "62/62 [==============================] - 6s 91ms/step - loss: 7.7291e-04\n",
      "Epoch 83/100\n",
      "62/62 [==============================] - 6s 92ms/step - loss: 7.9190e-04\n",
      "Epoch 84/100\n",
      "62/62 [==============================] - 6s 90ms/step - loss: 6.0667e-04\n",
      "Epoch 85/100\n",
      "62/62 [==============================] - 6s 93ms/step - loss: 7.1837e-04\n",
      "Epoch 86/100\n",
      "62/62 [==============================] - 6s 90ms/step - loss: 7.7512e-04\n",
      "Epoch 87/100\n",
      "62/62 [==============================] - 6s 91ms/step - loss: 6.7397e-04\n",
      "Epoch 88/100\n",
      "62/62 [==============================] - 6s 90ms/step - loss: 6.8019e-04\n",
      "Epoch 89/100\n",
      "62/62 [==============================] - 6s 91ms/step - loss: 7.2706e-04\n",
      "Epoch 90/100\n",
      "62/62 [==============================] - 6s 91ms/step - loss: 7.0891e-04\n",
      "Epoch 91/100\n",
      "62/62 [==============================] - 6s 91ms/step - loss: 6.1369e-04\n",
      "Epoch 92/100\n",
      "62/62 [==============================] - 6s 93ms/step - loss: 6.0738e-04\n",
      "Epoch 93/100\n",
      "62/62 [==============================] - 5s 88ms/step - loss: 6.7395e-04\n",
      "Epoch 94/100\n",
      "62/62 [==============================] - 6s 91ms/step - loss: 6.3307e-04\n",
      "Epoch 95/100\n",
      "62/62 [==============================] - 6s 96ms/step - loss: 6.7287e-04\n",
      "Epoch 96/100\n",
      "62/62 [==============================] - 7s 105ms/step - loss: 6.7345e-04\n",
      "Epoch 97/100\n",
      "62/62 [==============================] - 6s 98ms/step - loss: 6.7147e-04\n",
      "Epoch 98/100\n",
      "62/62 [==============================] - 6s 102ms/step - loss: 6.0632e-04\n",
      "Epoch 99/100\n",
      "62/62 [==============================] - 6s 103ms/step - loss: 6.7364e-04\n",
      "Epoch 100/100\n",
      "62/62 [==============================] - 6s 104ms/step - loss: 7.6774e-04\n"
     ]
    },
    {
     "data": {
      "text/plain": [
       "<keras.src.callbacks.History at 0x7fcd78463940>"
      ]
     },
     "execution_count": 8,
     "metadata": {},
     "output_type": "execute_result"
    }
   ],
   "source": [
    "model = Sequential()\n",
    "model.add(LSTM(units=50,return_sequences=True,input_shape=(X_train.shape[1], 1)))\n",
    "model.add(Dropout(0.2))\n",
    "model.add(LSTM(units=50,return_sequences=True))\n",
    "model.add(Dropout(0.2))\n",
    "model.add(LSTM(units=50,return_sequences=True))\n",
    "model.add(Dropout(0.2))\n",
    "model.add(LSTM(units=50))\n",
    "model.add(Dropout(0.2))\n",
    "model.add(Dense(units=1))\n",
    "# Compila el modelo utilizando el optimizador Adam y la función de pérdida de error cuadrático medio (mean squared error).\n",
    "model.compile(optimizer='adam',loss='mean_squared_error')\n",
    "# Entrena el modelo con los datos de entrada X_train y las etiquetas y_train.\n",
    "model.fit(X_train,y_train,epochs=100,batch_size=32)"
   ]
  },
  {
   "cell_type": "code",
   "execution_count": 9,
   "metadata": {},
   "outputs": [
    {
     "name": "stdout",
     "output_type": "stream",
     "text": [
      "Epoch 1/100\n"
     ]
    },
    {
     "ename": "ValueError",
     "evalue": "in user code:\n\n    File \"/home/miguel/anaconda3/lib/python3.9/site-packages/keras/src/engine/training.py\", line 1377, in train_function  *\n        return step_function(self, iterator)\n    File \"/home/miguel/anaconda3/lib/python3.9/site-packages/keras/src/engine/training.py\", line 1360, in step_function  **\n        outputs = model.distribute_strategy.run(run_step, args=(data,))\n    File \"/home/miguel/anaconda3/lib/python3.9/site-packages/keras/src/engine/training.py\", line 1349, in run_step  **\n        outputs = model.train_step(data)\n    File \"/home/miguel/anaconda3/lib/python3.9/site-packages/keras/src/engine/training.py\", line 1126, in train_step\n        y_pred = self(x, training=True)\n    File \"/home/miguel/anaconda3/lib/python3.9/site-packages/keras/src/utils/traceback_utils.py\", line 70, in error_handler\n        raise e.with_traceback(filtered_tb) from None\n    File \"/home/miguel/anaconda3/lib/python3.9/site-packages/keras/src/engine/input_spec.py\", line 298, in assert_input_compatibility\n        raise ValueError(\n\n    ValueError: Input 0 of layer \"sequential_1\" is incompatible with the layer: expected shape=(None, 8, 1), found shape=(None, 60, 1)\n",
     "output_type": "error",
     "traceback": [
      "\u001b[0;31m---------------------------------------------------------------------------\u001b[0m",
      "\u001b[0;31mValueError\u001b[0m                                Traceback (most recent call last)",
      "\u001b[0;32m/tmp/ipykernel_18062/586138322.py\u001b[0m in \u001b[0;36m<module>\u001b[0;34m\u001b[0m\n\u001b[1;32m     12\u001b[0m \u001b[0mmodelo_\u001b[0m\u001b[0;34m.\u001b[0m\u001b[0mcompile\u001b[0m\u001b[0;34m(\u001b[0m\u001b[0moptimizer\u001b[0m\u001b[0;34m=\u001b[0m\u001b[0;34m'adam'\u001b[0m\u001b[0;34m,\u001b[0m\u001b[0mloss\u001b[0m\u001b[0;34m=\u001b[0m\u001b[0;34m'mean_squared_error'\u001b[0m\u001b[0;34m)\u001b[0m\u001b[0;34m\u001b[0m\u001b[0;34m\u001b[0m\u001b[0m\n\u001b[1;32m     13\u001b[0m \u001b[0;31m# Entrena el modelo con los datos de entrada X_train y las etiquetas y_train.\u001b[0m\u001b[0;34m\u001b[0m\u001b[0;34m\u001b[0m\u001b[0m\n\u001b[0;32m---> 14\u001b[0;31m \u001b[0mmodelo_\u001b[0m\u001b[0;34m.\u001b[0m\u001b[0mfit\u001b[0m\u001b[0;34m(\u001b[0m\u001b[0mX_train\u001b[0m\u001b[0;34m,\u001b[0m\u001b[0my_train\u001b[0m\u001b[0;34m,\u001b[0m\u001b[0mepochs\u001b[0m\u001b[0;34m=\u001b[0m\u001b[0;36m100\u001b[0m\u001b[0;34m,\u001b[0m\u001b[0mbatch_size\u001b[0m\u001b[0;34m=\u001b[0m\u001b[0;36m32\u001b[0m\u001b[0;34m)\u001b[0m\u001b[0;34m\u001b[0m\u001b[0;34m\u001b[0m\u001b[0m\n\u001b[0m",
      "\u001b[0;32m~/anaconda3/lib/python3.9/site-packages/keras/src/utils/traceback_utils.py\u001b[0m in \u001b[0;36merror_handler\u001b[0;34m(*args, **kwargs)\u001b[0m\n\u001b[1;32m     68\u001b[0m             \u001b[0;31m# To get the full stack trace, call:\u001b[0m\u001b[0;34m\u001b[0m\u001b[0;34m\u001b[0m\u001b[0m\n\u001b[1;32m     69\u001b[0m             \u001b[0;31m# `tf.debugging.disable_traceback_filtering()`\u001b[0m\u001b[0;34m\u001b[0m\u001b[0;34m\u001b[0m\u001b[0m\n\u001b[0;32m---> 70\u001b[0;31m             \u001b[0;32mraise\u001b[0m \u001b[0me\u001b[0m\u001b[0;34m.\u001b[0m\u001b[0mwith_traceback\u001b[0m\u001b[0;34m(\u001b[0m\u001b[0mfiltered_tb\u001b[0m\u001b[0;34m)\u001b[0m \u001b[0;32mfrom\u001b[0m \u001b[0;32mNone\u001b[0m\u001b[0;34m\u001b[0m\u001b[0;34m\u001b[0m\u001b[0m\n\u001b[0m\u001b[1;32m     71\u001b[0m         \u001b[0;32mfinally\u001b[0m\u001b[0;34m:\u001b[0m\u001b[0;34m\u001b[0m\u001b[0;34m\u001b[0m\u001b[0m\n\u001b[1;32m     72\u001b[0m             \u001b[0;32mdel\u001b[0m \u001b[0mfiltered_tb\u001b[0m\u001b[0;34m\u001b[0m\u001b[0;34m\u001b[0m\u001b[0m\n",
      "\u001b[0;32m~/anaconda3/lib/python3.9/site-packages/keras/src/engine/training.py\u001b[0m in \u001b[0;36mtf__train_function\u001b[0;34m(iterator)\u001b[0m\n\u001b[1;32m     13\u001b[0m                 \u001b[0;32mtry\u001b[0m\u001b[0;34m:\u001b[0m\u001b[0;34m\u001b[0m\u001b[0;34m\u001b[0m\u001b[0m\n\u001b[1;32m     14\u001b[0m                     \u001b[0mdo_return\u001b[0m \u001b[0;34m=\u001b[0m \u001b[0;32mTrue\u001b[0m\u001b[0;34m\u001b[0m\u001b[0;34m\u001b[0m\u001b[0m\n\u001b[0;32m---> 15\u001b[0;31m                     \u001b[0mretval_\u001b[0m \u001b[0;34m=\u001b[0m \u001b[0mag__\u001b[0m\u001b[0;34m.\u001b[0m\u001b[0mconverted_call\u001b[0m\u001b[0;34m(\u001b[0m\u001b[0mag__\u001b[0m\u001b[0;34m.\u001b[0m\u001b[0mld\u001b[0m\u001b[0;34m(\u001b[0m\u001b[0mstep_function\u001b[0m\u001b[0;34m)\u001b[0m\u001b[0;34m,\u001b[0m \u001b[0;34m(\u001b[0m\u001b[0mag__\u001b[0m\u001b[0;34m.\u001b[0m\u001b[0mld\u001b[0m\u001b[0;34m(\u001b[0m\u001b[0mself\u001b[0m\u001b[0;34m)\u001b[0m\u001b[0;34m,\u001b[0m \u001b[0mag__\u001b[0m\u001b[0;34m.\u001b[0m\u001b[0mld\u001b[0m\u001b[0;34m(\u001b[0m\u001b[0miterator\u001b[0m\u001b[0;34m)\u001b[0m\u001b[0;34m)\u001b[0m\u001b[0;34m,\u001b[0m \u001b[0;32mNone\u001b[0m\u001b[0;34m,\u001b[0m \u001b[0mfscope\u001b[0m\u001b[0;34m)\u001b[0m\u001b[0;34m\u001b[0m\u001b[0;34m\u001b[0m\u001b[0m\n\u001b[0m\u001b[1;32m     16\u001b[0m                 \u001b[0;32mexcept\u001b[0m\u001b[0;34m:\u001b[0m\u001b[0;34m\u001b[0m\u001b[0;34m\u001b[0m\u001b[0m\n\u001b[1;32m     17\u001b[0m                     \u001b[0mdo_return\u001b[0m \u001b[0;34m=\u001b[0m \u001b[0;32mFalse\u001b[0m\u001b[0;34m\u001b[0m\u001b[0;34m\u001b[0m\u001b[0m\n",
      "\u001b[0;31mValueError\u001b[0m: in user code:\n\n    File \"/home/miguel/anaconda3/lib/python3.9/site-packages/keras/src/engine/training.py\", line 1377, in train_function  *\n        return step_function(self, iterator)\n    File \"/home/miguel/anaconda3/lib/python3.9/site-packages/keras/src/engine/training.py\", line 1360, in step_function  **\n        outputs = model.distribute_strategy.run(run_step, args=(data,))\n    File \"/home/miguel/anaconda3/lib/python3.9/site-packages/keras/src/engine/training.py\", line 1349, in run_step  **\n        outputs = model.train_step(data)\n    File \"/home/miguel/anaconda3/lib/python3.9/site-packages/keras/src/engine/training.py\", line 1126, in train_step\n        y_pred = self(x, training=True)\n    File \"/home/miguel/anaconda3/lib/python3.9/site-packages/keras/src/utils/traceback_utils.py\", line 70, in error_handler\n        raise e.with_traceback(filtered_tb) from None\n    File \"/home/miguel/anaconda3/lib/python3.9/site-packages/keras/src/engine/input_spec.py\", line 298, in assert_input_compatibility\n        raise ValueError(\n\n    ValueError: Input 0 of layer \"sequential_1\" is incompatible with the layer: expected shape=(None, 8, 1), found shape=(None, 60, 1)\n"
     ]
    }
   ],
   "source": [
    "modelo_ = Sequential()\n",
    "modelo_.add(LSTM(units=50,return_sequences=True,input_shape=(X_train_.shape[1], 1)))\n",
    "modelo_.add(Dropout(0.2))\n",
    "modelo_.add(LSTM(units=50,return_sequences=True))\n",
    "modelo_.add(Dropout(0.2))\n",
    "modelo_.add(LSTM(units=50,return_sequences=True))\n",
    "modelo_.add(Dropout(0.2))\n",
    "modelo_.add(LSTM(units=50))\n",
    "modelo_.add(Dropout(0.2))\n",
    "modelo_.add(Dense(units=1))\n",
    "# Compila el modelo utilizando el optimizador Adam y la función de pérdida de error cuadrático medio (mean squared error).\n",
    "modelo_.compile(optimizer='adam',loss='mean_squared_error')\n",
    "# Entrena el modelo con los datos de entrada X_train y las etiquetas y_train.\n",
    "modelo_.fit(X_train,y_train,epochs=100,batch_size=32)"
   ]
  },
  {
   "cell_type": "code",
   "execution_count": 10,
   "metadata": {},
   "outputs": [],
   "source": [
    "url = 'https://raw.githubusercontent.com/mwitiderrick/stockprice/master/tatatest.csv'\n",
    "dataset_test = pd.read_csv(url)\n",
    "real_stock_price = dataset_test.iloc[:, 1:2].values\n",
    "real_stock_price_ = cierre_p = cierre[int(len(cierre) * 0.7):]"
   ]
  },
  {
   "cell_type": "code",
   "execution_count": 11,
   "metadata": {},
   "outputs": [
    {
     "name": "stdout",
     "output_type": "stream",
     "text": [
      "1/1 [==============================] - 2s 2s/step\n"
     ]
    }
   ],
   "source": [
    "dataset_total = pd.concat((dataset_train['Open'], dataset_test['Open']), axis = 0)\n",
    "inputs = dataset_total[len(dataset_total) - len(dataset_test) - 60:].values\n",
    "inputs = inputs.reshape(-1,1)\n",
    "inputs = sc.transform(inputs)\n",
    "X_test = []\n",
    "for i in range(60, 76):\n",
    "    X_test.append(inputs[i-60:i, 0])\n",
    "X_test = np.array(X_test)\n",
    "X_test = np.reshape(X_test, (X_test.shape[0], X_test.shape[1], 1))\n",
    "predicted_stock_price = model.predict(X_test)\n",
    "predicted_stock_price = sc.inverse_transform(predicted_stock_price)"
   ]
  },
  {
   "cell_type": "code",
   "execution_count": 12,
   "metadata": {},
   "outputs": [
    {
     "data": {
      "image/png": "[encoded data removed]",
      "text/plain": [
       "<Figure size 432x288 with 1 Axes>"
      ]
     },
     "metadata": {
      "needs_background": "light"
     },
     "output_type": "display_data"
    }
   ],
   "source": [
    "plt.plot(real_stock_price, color = 'black', label = 'TATA Stock Price')\n",
    "plt.plot(predicted_stock_price, color = 'green', label = 'Predicted TATA Stock Price')\n",
    "plt.title('TATA Stock Price Prediction')\n",
    "plt.xlabel('Time')\n",
    "plt.ylabel('TATA Stock Price')\n",
    "plt.legend()\n",
    "plt.show()"
   ]
  }
 ],
 "metadata": {
  "kernelspec": {
   "display_name": "Python 3",
   "language": "python",
   "name": "python3"
  },
  "language_info": {
   "codemirror_mode": {
    "name": "ipython",
    "version": 3
   },
   "file_extension": ".py",
   "mimetype": "text/x-python",
   "name": "python",
   "nbconvert_exporter": "python",
   "pygments_lexer": "ipython3",
   "version": "3.9.7"
  }
 },
 "nbformat": 4,
 "nbformat_minor": 2
}
