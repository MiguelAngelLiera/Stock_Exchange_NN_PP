{
 "cells": [
  {
   "cell_type": "code",
   "execution_count": 1,
   "metadata": {},
   "outputs": [],
   "source": [
    "import csv, numpy as np\n",
    "     \n",
    "def leer_archivo(ruta_archivo):\n",
    "    with open(ruta_archivo, newline='') as csvfile:\n",
    "\n",
    "        # Crear un lector de CSV\n",
    "        cierre = np.array(list(csv.reader(csvfile, delimiter=',')))\n",
    "        \n",
    "    cierre = cierre.transpose()\n",
    "    cierre = np.delete(cierre, 0)\n",
    "    cierre = np.flip(cierre, axis= 0)\n",
    "\n",
    "    return cierre"
   ]
  },
  {
   "cell_type": "code",
   "execution_count": 2,
   "metadata": {},
   "outputs": [],
   "source": [
    "\n",
    "     \n"
   ]
  }
 ],
 "metadata": {
  "kernelspec": {
   "display_name": "base",
   "language": "python",
   "name": "python3"
  },
  "language_info": {
   "codemirror_mode": {
    "name": "ipython",
    "version": 3
   },
   "file_extension": ".py",
   "mimetype": "text/x-python",
   "name": "python",
   "nbconvert_exporter": "python",
   "pygments_lexer": "ipython3",
   "version": "3.9.7"
  },
  "orig_nbformat": 4
 },
 "nbformat": 4,
 "nbformat_minor": 2
}
