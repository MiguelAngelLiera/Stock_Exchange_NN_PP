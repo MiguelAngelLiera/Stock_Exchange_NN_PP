{
 "cells": [
  {
   "cell_type": "code",
   "execution_count": null,
   "metadata": {},
   "outputs": [],
   "source": [
    "class data_wavelet_transform:\n",
    "\n",
    "    def __init__(self,time_series,) -> None:\n",
    "        self.time_series = time_series\n",
    "        self.mother_wavelet = "
   ]
  }
 ],
 "metadata": {
  "language_info": {
   "name": "python"
  },
  "orig_nbformat": 4
 },
 "nbformat": 4,
 "nbformat_minor": 2
}
