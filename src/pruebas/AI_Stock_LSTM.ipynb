{
  "cells": [
    {
      "cell_type": "markdown",
      "metadata": {
        "id": "_qTK4Ajv3qRz"
      },
      "source": [
        "In this Colab, we will use a keras Long Short-Term Memory (LSTM) model to predict the stock price of Tata Global Beverages\n"
      ]
    },
    {
      "cell_type": "markdown",
      "metadata": {
        "id": "rs-XEsB86weU"
      },
      "source": [
        "Here are some imports we need to make: numpy for scientific computation, matplotlib for graphing, and pandas for manipulating data."
      ]
    },
    {
      "cell_type": "code",
      "execution_count": 1,
      "metadata": {
        "id": "2SoQJk5BYOas"
      },
      "outputs": [],
      "source": [
        "import numpy as np\n",
        "import matplotlib.pyplot as plt\n",
        "import pandas as pd"
      ]
    },
    {
      "cell_type": "markdown",
      "metadata": {
        "id": "BD3hdApP7gNi"
      },
      "source": [
        "Load training data set with the \"Open\" and \"High\" columns to use in our modeling."
      ]
    },
    {
      "cell_type": "code",
      "execution_count": 2,
      "metadata": {
        "id": "VU6ve06iDV5Q"
      },
      "outputs": [],
      "source": [
        "url = 'https://raw.githubusercontent.com/mwitiderrick/stockprice/master/NSE-TATAGLOBAL.csv'\n",
        "dataset_train = pd.read_csv(url)\n",
        "training_set = dataset_train.iloc[:, 1:2].values"
      ]
    },
    {
      "cell_type": "markdown",
      "metadata": {
        "id": "RsLbMJ1072EY"
      },
      "source": [
        "Let's take a look at the first five rows of our dataset"
      ]
    },
    {
      "cell_type": "code",
      "execution_count": 3,
      "metadata": {
        "colab": {
          "base_uri": "https://localhost:8080/",
          "height": 204
        },
        "id": "AqiQMcfCLh6K",
        "outputId": "d4eafdac-9c79-4e59-f205-9abd09998cb6"
      },
      "outputs": [
        {
          "data": {
            "text/html": [
              "<div>\n",
              "<style scoped>\n",
              "    .dataframe tbody tr th:only-of-type {\n",
              "        vertical-align: middle;\n",
              "    }\n",
              "\n",
              "    .dataframe tbody tr th {\n",
              "        vertical-align: top;\n",
              "    }\n",
              "\n",
              "    .dataframe thead th {\n",
              "        text-align: right;\n",
              "    }\n",
              "</style>\n",
              "<table border=\"1\" class=\"dataframe\">\n",
              "  <thead>\n",
              "    <tr style=\"text-align: right;\">\n",
              "      <th></th>\n",
              "      <th>Date</th>\n",
              "      <th>Open</th>\n",
              "      <th>High</th>\n",
              "      <th>Low</th>\n",
              "      <th>Last</th>\n",
              "      <th>Close</th>\n",
              "      <th>Total Trade Quantity</th>\n",
              "      <th>Turnover (Lacs)</th>\n",
              "    </tr>\n",
              "  </thead>\n",
              "  <tbody>\n",
              "    <tr>\n",
              "      <th>0</th>\n",
              "      <td>2018-09-28</td>\n",
              "      <td>234.05</td>\n",
              "      <td>235.95</td>\n",
              "      <td>230.20</td>\n",
              "      <td>233.50</td>\n",
              "      <td>233.75</td>\n",
              "      <td>3069914</td>\n",
              "      <td>7162.35</td>\n",
              "    </tr>\n",
              "    <tr>\n",
              "      <th>1</th>\n",
              "      <td>2018-09-27</td>\n",
              "      <td>234.55</td>\n",
              "      <td>236.80</td>\n",
              "      <td>231.10</td>\n",
              "      <td>233.80</td>\n",
              "      <td>233.25</td>\n",
              "      <td>5082859</td>\n",
              "      <td>11859.95</td>\n",
              "    </tr>\n",
              "    <tr>\n",
              "      <th>2</th>\n",
              "      <td>2018-09-26</td>\n",
              "      <td>240.00</td>\n",
              "      <td>240.00</td>\n",
              "      <td>232.50</td>\n",
              "      <td>235.00</td>\n",
              "      <td>234.25</td>\n",
              "      <td>2240909</td>\n",
              "      <td>5248.60</td>\n",
              "    </tr>\n",
              "    <tr>\n",
              "      <th>3</th>\n",
              "      <td>2018-09-25</td>\n",
              "      <td>233.30</td>\n",
              "      <td>236.75</td>\n",
              "      <td>232.00</td>\n",
              "      <td>236.25</td>\n",
              "      <td>236.10</td>\n",
              "      <td>2349368</td>\n",
              "      <td>5503.90</td>\n",
              "    </tr>\n",
              "    <tr>\n",
              "      <th>4</th>\n",
              "      <td>2018-09-24</td>\n",
              "      <td>233.55</td>\n",
              "      <td>239.20</td>\n",
              "      <td>230.75</td>\n",
              "      <td>234.00</td>\n",
              "      <td>233.30</td>\n",
              "      <td>3423509</td>\n",
              "      <td>7999.55</td>\n",
              "    </tr>\n",
              "  </tbody>\n",
              "</table>\n",
              "</div>"
            ],
            "text/plain": [
              "         Date    Open    High     Low    Last   Close  Total Trade Quantity  \\\n",
              "0  2018-09-28  234.05  235.95  230.20  233.50  233.75               3069914   \n",
              "1  2018-09-27  234.55  236.80  231.10  233.80  233.25               5082859   \n",
              "2  2018-09-26  240.00  240.00  232.50  235.00  234.25               2240909   \n",
              "3  2018-09-25  233.30  236.75  232.00  236.25  236.10               2349368   \n",
              "4  2018-09-24  233.55  239.20  230.75  234.00  233.30               3423509   \n",
              "\n",
              "   Turnover (Lacs)  \n",
              "0          7162.35  \n",
              "1         11859.95  \n",
              "2          5248.60  \n",
              "3          5503.90  \n",
              "4          7999.55  "
            ]
          },
          "execution_count": 3,
          "metadata": {},
          "output_type": "execute_result"
        }
      ],
      "source": [
        "dataset_train.head()"
      ]
    },
    {
      "cell_type": "markdown",
      "metadata": {
        "id": "ii6nZaDI7-20"
      },
      "source": [
        "Import MinMaxScaler from scikit-learn to scale our dataset into numbers between 0 and 1"
      ]
    },
    {
      "cell_type": "code",
      "execution_count": 4,
      "metadata": {
        "id": "Ub32hsA4MIXz"
      },
      "outputs": [],
      "source": [
        "from sklearn.preprocessing import MinMaxScaler\n",
        "sc = MinMaxScaler(feature_range=(0,1))\n",
        "training_set_scaled = sc.fit_transform(training_set)"
      ]
    },
    {
      "cell_type": "markdown",
      "metadata": {
        "id": "aqze-4Is8Rb_"
      },
      "source": [
        "We want our data to be in the form of a 3D array for our LSTM model. First, we create data in 60 timesteps and convert it into an array using NumPy. Then, we convert the data into a 3D array with X_train samples, 60 timestamps, and one feature at each step."
      ]
    },
    {
      "cell_type": "code",
      "execution_count": 5,
      "metadata": {
        "id": "qo7K06T2Mi_e"
      },
      "outputs": [],
      "source": [
        "X_train = []\n",
        "y_train = []\n",
        "for i in range(60, 2035):\n",
        "    X_train.append(training_set_scaled[i-60:i, 0])\n",
        "    y_train.append(training_set_scaled[i, 0])\n",
        "X_train, y_train = np.array(X_train), np.array(y_train)\n",
        "\n",
        "X_train = np.reshape(X_train, (X_train.shape[0], X_train.shape[1], 1))"
      ]
    },
    {
      "cell_type": "markdown",
      "metadata": {
        "id": "anIlTzKO-r74"
      },
      "source": [
        "Make the necessary imports from keras"
      ]
    },
    {
      "cell_type": "code",
      "execution_count": 6,
      "metadata": {
        "id": "TP9GVtb9Q-C9"
      },
      "outputs": [],
      "source": [
        "from keras.models import Sequential\n",
        "from keras.layers import LSTM\n",
        "from keras.layers import Dropout\n",
        "from keras.layers import Dense"
      ]
    },
    {
      "cell_type": "markdown",
      "metadata": {
        "id": "hJrFWnOd-x2t"
      },
      "source": [
        "Add LSTM layer along with dropout layers to prevent overfitting. After that, we add a Dense layer that specifies a one unit output. Next, we compile the model using the adam optimizer and set the loss as the mean_squarred_error"
      ]
    },
    {
      "cell_type": "code",
      "execution_count": 7,
      "metadata": {
        "colab": {
          "base_uri": "https://localhost:8080/",
          "height": 1000
        },
        "id": "CMKVOwBnRcOc",
        "outputId": "56b2022c-7ea4-4bf0-9f21-8b0a22d8c52a"
      },
      "outputs": [
        {
          "name": "stdout",
          "output_type": "stream",
          "text": [
            "Epoch 1/100\n",
            "62/62 [==============================] - 11s 68ms/step - loss: 0.0129\n",
            "Epoch 2/100\n",
            "62/62 [==============================] - 4s 65ms/step - loss: 0.0033\n",
            "Epoch 3/100\n",
            "62/62 [==============================] - 4s 65ms/step - loss: 0.0029\n",
            "Epoch 4/100\n",
            "62/62 [==============================] - 4s 65ms/step - loss: 0.0025\n",
            "Epoch 5/100\n",
            "62/62 [==============================] - 4s 66ms/step - loss: 0.0029\n",
            "Epoch 6/100\n",
            "62/62 [==============================] - 4s 65ms/step - loss: 0.0029\n",
            "Epoch 7/100\n",
            "62/62 [==============================] - 4s 65ms/step - loss: 0.0025\n",
            "Epoch 8/100\n",
            "62/62 [==============================] - 4s 65ms/step - loss: 0.0020\n",
            "Epoch 9/100\n",
            "62/62 [==============================] - 4s 67ms/step - loss: 0.0020\n",
            "Epoch 10/100\n",
            "62/62 [==============================] - 4s 68ms/step - loss: 0.0019\n",
            "Epoch 11/100\n",
            "62/62 [==============================] - 4s 67ms/step - loss: 0.0020\n",
            "Epoch 12/100\n",
            "62/62 [==============================] - 4s 66ms/step - loss: 0.0017\n",
            "Epoch 13/100\n",
            "62/62 [==============================] - 4s 66ms/step - loss: 0.0017\n",
            "Epoch 14/100\n",
            "62/62 [==============================] - 4s 66ms/step - loss: 0.0018\n",
            "Epoch 15/100\n",
            "62/62 [==============================] - 4s 66ms/step - loss: 0.0016\n",
            "Epoch 16/100\n",
            "62/62 [==============================] - 4s 68ms/step - loss: 0.0018\n",
            "Epoch 17/100\n",
            "62/62 [==============================] - 4s 66ms/step - loss: 0.0017\n",
            "Epoch 18/100\n",
            "62/62 [==============================] - 4s 67ms/step - loss: 0.0017\n",
            "Epoch 19/100\n",
            "62/62 [==============================] - 4s 68ms/step - loss: 0.0014\n",
            "Epoch 20/100\n",
            "62/62 [==============================] - 4s 66ms/step - loss: 0.0014\n",
            "Epoch 21/100\n",
            "62/62 [==============================] - 4s 68ms/step - loss: 0.0014\n",
            "Epoch 22/100\n",
            "62/62 [==============================] - 4s 66ms/step - loss: 0.0013\n",
            "Epoch 23/100\n",
            "62/62 [==============================] - 4s 67ms/step - loss: 0.0013\n",
            "Epoch 24/100\n",
            "62/62 [==============================] - 4s 66ms/step - loss: 0.0012\n",
            "Epoch 25/100\n",
            "62/62 [==============================] - 4s 71ms/step - loss: 0.0013\n",
            "Epoch 26/100\n",
            "62/62 [==============================] - 4s 67ms/step - loss: 0.0013\n",
            "Epoch 27/100\n",
            "62/62 [==============================] - 4s 66ms/step - loss: 0.0013\n",
            "Epoch 28/100\n",
            "62/62 [==============================] - 4s 66ms/step - loss: 0.0012\n",
            "Epoch 29/100\n",
            "62/62 [==============================] - 4s 66ms/step - loss: 0.0014\n",
            "Epoch 30/100\n",
            "62/62 [==============================] - 4s 66ms/step - loss: 0.0012\n",
            "Epoch 31/100\n",
            "62/62 [==============================] - 4s 66ms/step - loss: 0.0011\n",
            "Epoch 32/100\n",
            "62/62 [==============================] - 4s 68ms/step - loss: 0.0011\n",
            "Epoch 33/100\n",
            "62/62 [==============================] - 4s 66ms/step - loss: 0.0012\n",
            "Epoch 34/100\n",
            "62/62 [==============================] - 4s 66ms/step - loss: 9.3415e-04\n",
            "Epoch 35/100\n",
            "62/62 [==============================] - 4s 66ms/step - loss: 0.0010\n",
            "Epoch 36/100\n",
            "62/62 [==============================] - 4s 69ms/step - loss: 0.0011\n",
            "Epoch 37/100\n",
            "62/62 [==============================] - 4s 68ms/step - loss: 9.3118e-04\n",
            "Epoch 38/100\n",
            "62/62 [==============================] - 4s 67ms/step - loss: 9.4147e-04\n",
            "Epoch 39/100\n",
            "62/62 [==============================] - 4s 67ms/step - loss: 9.6492e-04\n",
            "Epoch 40/100\n",
            "62/62 [==============================] - 4s 66ms/step - loss: 9.2803e-04\n",
            "Epoch 41/100\n",
            "62/62 [==============================] - 4s 66ms/step - loss: 9.0146e-04\n",
            "Epoch 42/100\n",
            "62/62 [==============================] - 4s 66ms/step - loss: 8.9771e-04\n",
            "Epoch 43/100\n",
            "62/62 [==============================] - 4s 66ms/step - loss: 0.0010\n",
            "Epoch 44/100\n",
            "62/62 [==============================] - 4s 66ms/step - loss: 8.6404e-04\n",
            "Epoch 45/100\n",
            "62/62 [==============================] - 4s 66ms/step - loss: 9.3016e-04\n",
            "Epoch 46/100\n",
            "62/62 [==============================] - 4s 66ms/step - loss: 0.0010\n",
            "Epoch 47/100\n",
            "62/62 [==============================] - 4s 67ms/step - loss: 8.6503e-04\n",
            "Epoch 48/100\n",
            "62/62 [==============================] - 4s 66ms/step - loss: 8.4268e-04\n",
            "Epoch 49/100\n",
            "62/62 [==============================] - 4s 67ms/step - loss: 8.8333e-04\n",
            "Epoch 50/100\n",
            "62/62 [==============================] - 4s 66ms/step - loss: 8.3484e-04\n",
            "Epoch 51/100\n",
            "62/62 [==============================] - 4s 67ms/step - loss: 8.2504e-04\n",
            "Epoch 52/100\n",
            "62/62 [==============================] - 4s 66ms/step - loss: 8.5712e-04\n",
            "Epoch 53/100\n",
            "62/62 [==============================] - 4s 66ms/step - loss: 8.6652e-04\n",
            "Epoch 54/100\n",
            "62/62 [==============================] - 4s 67ms/step - loss: 7.8081e-04\n",
            "Epoch 55/100\n",
            "62/62 [==============================] - 4s 66ms/step - loss: 8.5952e-04\n",
            "Epoch 56/100\n",
            "62/62 [==============================] - 4s 67ms/step - loss: 8.5575e-04\n",
            "Epoch 57/100\n",
            "62/62 [==============================] - 4s 67ms/step - loss: 7.1054e-04\n",
            "Epoch 58/100\n",
            "62/62 [==============================] - 4s 67ms/step - loss: 7.5123e-04\n",
            "Epoch 59/100\n",
            "62/62 [==============================] - 4s 66ms/step - loss: 7.2012e-04\n",
            "Epoch 60/100\n",
            "62/62 [==============================] - 4s 66ms/step - loss: 7.1325e-04\n",
            "Epoch 61/100\n",
            "62/62 [==============================] - 4s 67ms/step - loss: 9.1221e-04\n",
            "Epoch 62/100\n",
            "62/62 [==============================] - 4s 67ms/step - loss: 7.5015e-04\n",
            "Epoch 63/100\n",
            "62/62 [==============================] - 4s 68ms/step - loss: 7.1203e-04\n",
            "Epoch 64/100\n",
            "62/62 [==============================] - 4s 66ms/step - loss: 7.1912e-04\n",
            "Epoch 65/100\n",
            "62/62 [==============================] - 4s 67ms/step - loss: 6.2864e-04\n",
            "Epoch 66/100\n",
            "62/62 [==============================] - 4s 68ms/step - loss: 7.8193e-04\n",
            "Epoch 67/100\n",
            "62/62 [==============================] - 4s 66ms/step - loss: 7.2979e-04\n",
            "Epoch 68/100\n",
            "62/62 [==============================] - 4s 67ms/step - loss: 7.6383e-04\n",
            "Epoch 69/100\n",
            "62/62 [==============================] - 4s 66ms/step - loss: 7.6130e-04\n",
            "Epoch 70/100\n",
            "62/62 [==============================] - 4s 66ms/step - loss: 7.4791e-04\n",
            "Epoch 71/100\n",
            "62/62 [==============================] - 4s 66ms/step - loss: 7.0529e-04\n",
            "Epoch 72/100\n",
            "62/62 [==============================] - 4s 66ms/step - loss: 7.3568e-04\n",
            "Epoch 73/100\n",
            "62/62 [==============================] - 4s 66ms/step - loss: 6.7472e-04\n",
            "Epoch 74/100\n",
            "62/62 [==============================] - 4s 66ms/step - loss: 7.0924e-04\n",
            "Epoch 75/100\n",
            "62/62 [==============================] - 4s 66ms/step - loss: 6.5763e-04\n",
            "Epoch 76/100\n",
            "62/62 [==============================] - 4s 66ms/step - loss: 6.0770e-04\n",
            "Epoch 77/100\n",
            "62/62 [==============================] - 4s 66ms/step - loss: 6.0733e-04\n",
            "Epoch 78/100\n",
            "62/62 [==============================] - 4s 66ms/step - loss: 6.2802e-04\n",
            "Epoch 79/100\n",
            "62/62 [==============================] - 4s 68ms/step - loss: 6.5194e-04\n",
            "Epoch 80/100\n",
            "62/62 [==============================] - 4s 66ms/step - loss: 6.6155e-04\n",
            "Epoch 81/100\n",
            "62/62 [==============================] - 4s 69ms/step - loss: 6.1165e-04\n",
            "Epoch 82/100\n",
            "62/62 [==============================] - 4s 67ms/step - loss: 6.2513e-04\n",
            "Epoch 83/100\n",
            "62/62 [==============================] - 4s 67ms/step - loss: 7.2553e-04\n",
            "Epoch 84/100\n",
            "62/62 [==============================] - 4s 66ms/step - loss: 7.0597e-04\n",
            "Epoch 85/100\n",
            "62/62 [==============================] - 4s 67ms/step - loss: 7.4420e-04\n",
            "Epoch 86/100\n",
            "62/62 [==============================] - 4s 67ms/step - loss: 7.8071e-04\n",
            "Epoch 87/100\n",
            "62/62 [==============================] - 4s 67ms/step - loss: 9.7229e-04\n",
            "Epoch 88/100\n",
            "62/62 [==============================] - 4s 66ms/step - loss: 7.9008e-04\n",
            "Epoch 89/100\n",
            "62/62 [==============================] - 4s 66ms/step - loss: 7.2403e-04\n",
            "Epoch 90/100\n",
            "62/62 [==============================] - 4s 67ms/step - loss: 5.6315e-04\n",
            "Epoch 91/100\n",
            "62/62 [==============================] - 4s 67ms/step - loss: 6.8305e-04\n",
            "Epoch 92/100\n",
            "62/62 [==============================] - 4s 67ms/step - loss: 6.2469e-04\n",
            "Epoch 93/100\n",
            "62/62 [==============================] - 4s 67ms/step - loss: 6.8538e-04\n",
            "Epoch 94/100\n",
            "62/62 [==============================] - 4s 67ms/step - loss: 6.1075e-04\n",
            "Epoch 95/100\n",
            "62/62 [==============================] - 4s 68ms/step - loss: 6.0818e-04\n",
            "Epoch 96/100\n",
            "62/62 [==============================] - 4s 67ms/step - loss: 7.1447e-04\n",
            "Epoch 97/100\n",
            "62/62 [==============================] - 4s 67ms/step - loss: 6.0006e-04\n",
            "Epoch 98/100\n",
            "62/62 [==============================] - 4s 67ms/step - loss: 6.4047e-04\n",
            "Epoch 99/100\n",
            "62/62 [==============================] - 4s 66ms/step - loss: 6.0680e-04\n",
            "Epoch 100/100\n",
            "62/62 [==============================] - 4s 66ms/step - loss: 6.6630e-04\n"
          ]
        },
        {
          "data": {
            "image/png": "[encoded data removed]",
            "text/plain": [
              "<IPython.core.display.Image object>"
            ]
          },
          "execution_count": 7,
          "metadata": {},
          "output_type": "execute_result"
        }
      ],
      "source": [
        "model = Sequential()\n",
        "\n",
        "model.add(LSTM(units=50,return_sequences=True,input_shape=(X_train.shape[1], 1)))\n",
        "model.add(Dropout(0.2))\n",
        "\n",
        "model.add(LSTM(units=50,return_sequences=True))\n",
        "model.add(Dropout(0.2))\n",
        "\n",
        "model.add(LSTM(units=50,return_sequences=True))\n",
        "model.add(Dropout(0.2))\n",
        "\n",
        "model.add(LSTM(units=50))\n",
        "model.add(Dropout(0.2))\n",
        "\n",
        "model.add(Dense(units=1))\n",
        "\n",
        "model.compile(optimizer='adam',loss='mean_squared_error')\n",
        "\n",
        "model.fit(X_train,y_train,epochs=100,batch_size=32)\n",
        "import pydot\n",
        "import graphviz\n",
        "from keras.utils import plot_model\n",
        "plot_model(model, to_file='model_plot.png', show_shapes=True, show_layer_names=True)"
      ]
    },
    {
      "cell_type": "markdown",
      "metadata": {
        "id": "N7_w_7x-A44v"
      },
      "source": [
        "Import the test set for the model to make predictions on"
      ]
    },
    {
      "cell_type": "code",
      "execution_count": 8,
      "metadata": {
        "id": "ns2TngWrUaz5"
      },
      "outputs": [],
      "source": [
        "url = 'https://raw.githubusercontent.com/mwitiderrick/stockprice/master/tatatest.csv'\n",
        "dataset_test = pd.read_csv(url)\n",
        "real_stock_price = dataset_test.iloc[:, 1:2].values"
      ]
    },
    {
      "cell_type": "markdown",
      "metadata": {
        "id": "WXGKvoo6BAyd"
      },
      "source": [
        "Before predicting future stock prices, we have to manipulate the training set; we merge the training set and the test set on the 0 axis, set the time step to 60, use minmaxscaler, and reshape the dataset as done previously. After making predictions, we use inverse_transform to get back the stock prices in normal readable format.\n"
      ]
    },
    {
      "cell_type": "code",
      "execution_count": 9,
      "metadata": {
        "id": "pBbdst_BV_PB"
      },
      "outputs": [
        {
          "name": "stdout",
          "output_type": "stream",
          "text": [
            "1/1 [==============================] - 1s 1s/step\n"
          ]
        }
      ],
      "source": [
        "dataset_total = pd.concat((dataset_train['Open'], dataset_test['Open']), axis = 0)\n",
        "inputs = dataset_total[len(dataset_total) - len(dataset_test) - 60:].values\n",
        "inputs = inputs.reshape(-1,1)\n",
        "inputs = sc.transform(inputs)\n",
        "X_test = []\n",
        "for i in range(60, 76):\n",
        "    X_test.append(inputs[i-60:i, 0])\n",
        "X_test = np.array(X_test)\n",
        "X_test = np.reshape(X_test, (X_test.shape[0], X_test.shape[1], 1))\n",
        "predicted_stock_price = model.predict(X_test)\n",
        "predicted_stock_price = sc.inverse_transform(predicted_stock_price)"
      ]
    },
    {
      "cell_type": "markdown",
      "metadata": {
        "id": "BAj_a3n0B3nz"
      },
      "source": [
        "Plot our predicted stock prices and the actual stock price"
      ]
    },
    {
      "cell_type": "code",
      "execution_count": 10,
      "metadata": {
        "colab": {
          "base_uri": "https://localhost:8080/",
          "height": 295
        },
        "id": "czWvnIANYSqI",
        "outputId": "253ea65c-9b91-4812-c75e-605d2199b783"
      },
      "outputs": [
        {
          "data": {
            "image/png": "[encoded data removed]",
            "text/plain": [
              "<Figure size 640x480 with 1 Axes>"
            ]
          },
          "metadata": {},
          "output_type": "display_data"
        }
      ],
      "source": [
        "plt.plot(real_stock_price, color = 'black', label = 'TATA Stock Price')\n",
        "plt.plot(predicted_stock_price, color = 'green', label = 'Predicted TATA Stock Price')\n",
        "plt.title('TATA Stock Price Prediction')\n",
        "plt.xlabel('Time')\n",
        "plt.ylabel('TATA Stock Price')\n",
        "plt.legend()\n",
        "plt.show()"
      ]
    }
  ],
  "metadata": {
    "colab": {
      "provenance": []
    },
    "kernelspec": {
      "display_name": "Python 3",
      "name": "python3"
    },
    "language_info": {
      "codemirror_mode": {
        "name": "ipython",
        "version": 3
      },
      "file_extension": ".py",
      "mimetype": "text/x-python",
      "name": "python",
      "nbconvert_exporter": "python",
      "pygments_lexer": "ipython3",
      "version": "3.11.8"
    }
  },
  "nbformat": 4,
  "nbformat_minor": 0
}
