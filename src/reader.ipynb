{
 "cells": [
  {
   "cell_type": "code",
   "execution_count": null,
   "metadata": {},
   "outputs": [],
   "source": [
    "import csv, numpy as np"
   ]
  },
  {
   "cell_type": "code",
   "execution_count": null,
   "metadata": {},
   "outputs": [],
   "source": [
    "def leer_archivo(ruta_archivo):\n",
    "    with open(ruta_archivo, newline='') as csvfile:\n",
    "\n",
    "        # Crear un lector de CSV\n",
    "        cierre = np.array(list(csv.reader(csvfile, delimiter=',')))\n",
    "        \n",
    "    cierre = cierre.transpose()\n",
    "    cierre = np.delete(cierre, 0)\n",
    "    cierre = np.flip(cierre, axis= 0)\n",
    "\n",
    "    return cierre"
   ]
  }
 ],
 "metadata": {
  "language_info": {
   "name": "python"
  },
  "orig_nbformat": 4
 },
 "nbformat": 4,
 "nbformat_minor": 2
}
