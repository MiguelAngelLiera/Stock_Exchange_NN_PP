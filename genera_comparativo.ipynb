{
 "cells": [
  {
   "cell_type": "code",
   "execution_count": null,
   "metadata": {},
   "outputs": [],
   "source": [
    "import os\n",
    "import matplotlib.pyplot as plt\n",
    "import matplotlib.image as mpimg\n",
    "\n",
    "# Ruta de la carpeta que contiene las imágenes\n",
    "carpeta = 'ruta/a/la/carpeta'\n",
    "\n",
    "# Obtener la lista de nombres de archivo de las imágenes en la carpeta\n",
    "archivos = os.listdir(carpeta)\n",
    "\n",
    "# Filtrar los archivos para asegurarnos de que sean archivos de imagen (por ejemplo, .png, .jpg, .jpeg, etc.)\n",
    "imagenes = [archivo for archivo in archivos if archivo.endswith(('png', 'jpg', 'jpeg'))]\n",
    "\n",
    "# Crear subgráficos con dos filas y tres columnas\n",
    "fig, axs = plt.subplots(2, 3)\n",
    "\n",
    "# Iterar sobre las imágenes y mostrarlas en los subgráficos correspondientes\n",
    "for i, ax in enumerate(axs.flat):\n",
    "    # Si hemos mostrado todas las imágenes, salimos del bucle\n",
    "    if i == len(imagenes):\n",
    "        break\n",
    "    ruta_imagen = os.path.join(carpeta, imagenes[i])  # Ruta completa de la imagen\n",
    "    img = mpimg.imread(ruta_imagen)  # Leer la imagen desde el archivo\n",
    "    ax.imshow(img)  # Mostrar la imagen en el subgráfico\n",
    "    ax.axis('off')  # Ocultar ejes\n",
    "    ax.set_title(f'Imagen {i+1}')  # Establecer el título del subgráfico\n",
    "\n",
    "plt.tight_layout()  # Ajustar el diseño\n",
    "plt.show()  # Mostrar el conjunto de subgráficos\n"
   ]
  }
 ],
 "metadata": {
  "language_info": {
   "name": "python"
  }
 },
 "nbformat": 4,
 "nbformat_minor": 2
}
